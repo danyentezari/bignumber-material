{
  "cells": [
    {
      "cell_type": "code",
      "execution_count": null,
      "metadata": {
        "id": "YEBPthy7qs3h"
      },
      "outputs": [],
      "source": [
        "import numpy as np\n",
        "from scipy.linalg import orth\n",
        "import math"
      ]
    },
    {
      "cell_type": "code",
      "execution_count": null,
      "metadata": {
        "id": "UaSZOfxz2l2v"
      },
      "outputs": [],
      "source": [
        "A = np.array([\n",
        "  [10, 2],\n",
        "  [5, 11]\n",
        "])"
      ]
    },
    {
      "cell_type": "markdown",
      "metadata": {
        "id": "KWUkVT2m2ioR"
      },
      "source": [
        "### SVD (Manual)"
      ]
    },
    {
      "cell_type": "code",
      "execution_count": null,
      "metadata": {
        "colab": {
          "base_uri": "https://localhost:8080/"
        },
        "id": "MFnenBq_qxXC",
        "outputId": "d5d00186-3547-4b00-bcfb-df0aa1cbd2a2"
      },
      "outputs": [
        {
          "name": "stdout",
          "output_type": "stream",
          "text": [
            "[[10  2]\n",
            " [ 5 11]]\n",
            "[[10  5]\n",
            " [ 2 11]]\n"
          ]
        }
      ],
      "source": [
        "A = np.array([\n",
        "  [10, 2],\n",
        "  [5, 11]\n",
        "])\n",
        "\n",
        "print(A)\n",
        "print(A.T)"
      ]
    },
    {
      "cell_type": "code",
      "execution_count": null,
      "metadata": {
        "id": "9_424LjTq8tD"
      },
      "outputs": [],
      "source": [
        "# Step 1\n",
        "AtA = np.matmul(A, A.T)"
      ]
    },
    {
      "cell_type": "code",
      "execution_count": null,
      "metadata": {
        "id": "zAd4C6nGrBNp"
      },
      "outputs": [],
      "source": [
        "# Step 2\n",
        "AAt = np.matmul(A.T, A)"
      ]
    },
    {
      "cell_type": "code",
      "execution_count": null,
      "metadata": {
        "colab": {
          "base_uri": "https://localhost:8080/"
        },
        "id": "J7baNtMtsffW",
        "outputId": "03d14371-3632-4fa6-ad5b-8fdd1fcab3d5"
      },
      "outputs": [
        {
          "name": "stdout",
          "output_type": "stream",
          "text": [
            "[ 50. 200.]\n",
            "[200.  50.]\n",
            "sigma_1 14.142135623730951\n",
            "sigma_2 7.071067811865476\n"
          ]
        }
      ],
      "source": [
        "# Step 3\n",
        "print(np.linalg.eigvals(AtA))\n",
        "print(np.linalg.eigvals(AAt))\n",
        "\n",
        "sigma_1 = math.sqrt(np.linalg.eigvals(AAt)[0])\n",
        "sigma_2 = math.sqrt(np.linalg.eigvals(AAt)[1])\n",
        "\n",
        "\n",
        "print('sigma_1', sigma_1)\n",
        "print('sigma_2', sigma_2)"
      ]
    },
    {
      "cell_type": "code",
      "execution_count": null,
      "metadata": {
        "id": "jqRzMsPs1O1T"
      },
      "outputs": [],
      "source": [
        "# Step 4\n",
        "S = np.array([\n",
        "    [sigma_1, 0],\n",
        "    [0, sigma_2]\n",
        "])"
      ]
    },
    {
      "cell_type": "code",
      "execution_count": null,
      "metadata": {
        "colab": {
          "base_uri": "https://localhost:8080/"
        },
        "id": "dDV1vvzdsqAX",
        "outputId": "996f8ade-c7ef-40a2-e92b-4aee8e11a890"
      },
      "outputs": [
        {
          "name": "stdout",
          "output_type": "stream",
          "text": [
            "[[-0.6 -0.8]\n",
            " [-0.8  0.6]]\n"
          ]
        }
      ],
      "source": [
        "# Step 5\n",
        "# See Gram Schmidt algorithm, https://media.cheggcdn.com/media%2Ffa3%2Ffa3fb1ca-e6d4-469d-8691-58dc5624d7cf%2FphpEAj5dG.png\n",
        "U = orth(AtA)\n",
        "print(U)"
      ]
    },
    {
      "cell_type": "code",
      "execution_count": null,
      "metadata": {
        "colab": {
          "base_uri": "https://localhost:8080/"
        },
        "id": "UvyW82G10oqC",
        "outputId": "2d2dccf8-e3cb-4445-a74c-0e68bb02b66a"
      },
      "outputs": [
        {
          "name": "stdout",
          "output_type": "stream",
          "text": [
            "[[-0.70710678 -0.70710678]\n",
            " [-0.70710678  0.70710678]]\n"
          ]
        }
      ],
      "source": [
        "# Step 6\n",
        "V = orth(AAt)\n",
        "print(V)"
      ]
    },
    {
      "cell_type": "code",
      "execution_count": null,
      "metadata": {
        "colab": {
          "base_uri": "https://localhost:8080/"
        },
        "id": "BIzHOPgp1ASf",
        "outputId": "c8c35658-9962-4070-837b-3b9417bbc03a"
      },
      "outputs": [
        {
          "data": {
            "text/plain": [
              "array([[10.,  2.],\n",
              "       [ 5., 11.]])"
            ]
          },
          "execution_count": 27,
          "metadata": {},
          "output_type": "execute_result"
        }
      ],
      "source": [
        "np.matmul(np.matmul(U,S), V)"
      ]
    },
    {
      "cell_type": "markdown",
      "metadata": {
        "id": "NhRP9q662mn4"
      },
      "source": [
        "### SVD Method of NumPy "
      ]
    },
    {
      "cell_type": "code",
      "execution_count": null,
      "metadata": {
        "id": "machttT-2pcZ"
      },
      "outputs": [],
      "source": [
        "U, S, V = np.linalg.svd(A)"
      ]
    },
    {
      "cell_type": "code",
      "execution_count": null,
      "metadata": {
        "colab": {
          "base_uri": "https://localhost:8080/"
        },
        "id": "5PRVYUo82w0C",
        "outputId": "1d6c11a6-811f-4612-98d7-83d6e9a661e3"
      },
      "outputs": [
        {
          "name": "stdout",
          "output_type": "stream",
          "text": [
            "[[-0.6 -0.8]\n",
            " [-0.8  0.6]]\n",
            "[14.14213562  7.07106781]\n",
            "[[-0.70710678 -0.70710678]\n",
            " [-0.70710678  0.70710678]]\n"
          ]
        }
      ],
      "source": [
        "print(U)\n",
        "print(S)\n",
        "print(V)"
      ]
    },
    {
      "cell_type": "code",
      "execution_count": null,
      "metadata": {
        "id": "QGx7swZr3ASF"
      },
      "outputs": [],
      "source": [
        "S = np.array([\n",
        "    [sigma_1, 0],\n",
        "    [0, sigma_2]\n",
        "])"
      ]
    },
    {
      "cell_type": "code",
      "execution_count": null,
      "metadata": {
        "colab": {
          "base_uri": "https://localhost:8080/"
        },
        "id": "l7hYVCuL2y2G",
        "outputId": "a09ec51c-21b5-4313-e9e5-55859993b883"
      },
      "outputs": [
        {
          "data": {
            "text/plain": [
              "array([[10.,  2.],\n",
              "       [ 5., 11.]])"
            ]
          },
          "execution_count": 35,
          "metadata": {},
          "output_type": "execute_result"
        }
      ],
      "source": [
        "np.matmul(np.matmul(U,S), V)"
      ]
    },
    {
      "cell_type": "code",
      "execution_count": null,
      "metadata": {
        "id": "_sKbQTlg26W6"
      },
      "outputs": [],
      "source": []
    }
  ],
  "metadata": {
    "colab": {
      "name": "PY-tutorial-15.ipynb",
      "provenance": []
    },
    "kernelspec": {
      "display_name": "Python 3",
      "language": "python",
      "name": "python3"
    },
    "language_info": {
      "name": "python",
      "version": "3.7.4 (v3.7.4:e09359112e, Jul  8 2019, 14:54:52) \n[Clang 6.0 (clang-600.0.57)]"
    },
    "vscode": {
      "interpreter": {
        "hash": "e534e48711db4d1e1c48977d0d14ff85b1f16d41bcc4fdfd88268a329b3c9d66"
      }
    }
  },
  "nbformat": 4,
  "nbformat_minor": 0
}
