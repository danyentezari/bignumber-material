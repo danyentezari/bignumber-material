{
  "nbformat": 4,
  "nbformat_minor": 0,
  "metadata": {
    "colab": {
      "name": "LP-Tutorial-1.ipynb",
      "provenance": [],
      "collapsed_sections": []
    },
    "kernelspec": {
      "name": "python3",
      "display_name": "Python 3"
    },
    "language_info": {
      "name": "python"
    }
  },
  "cells": [
    {
      "cell_type": "code",
      "execution_count": null,
      "metadata": {
        "id": "x4jIej66aqTb"
      },
      "outputs": [],
      "source": [
        "import matplotlib.pyplot as plt\n",
        "import numpy as np"
      ]
    },
    {
      "cell_type": "code",
      "source": [
        "x = np.linspace(0, 100, 2000)"
      ],
      "metadata": {
        "id": "IGUdjjKea01n"
      },
      "execution_count": null,
      "outputs": []
    },
    {
      "cell_type": "code",
      "source": [
        "# Express the constrains as functions of y\n",
        "y1 = (4000 - 200 * x)/100\n",
        "y2 = (3000 - 100 * x)/100\n",
        "\n",
        "\n",
        "# Set coordinate limits\n",
        "plt.xlim((0, 50))\n",
        "plt.ylim((0, 50))\n",
        "\n",
        "\n",
        "# Plot the constraints (as equations)\n",
        "plt.plot(x, y1, label=r'$x \\geq 0')\n",
        "plt.plot(x, y2, label=r'$y \\geq 0')\n",
        "\n",
        "# Plot the point indicating the feasible region\n",
        "plt.plot(10, 20, label=r'(10,20)', marker=\"o\", markersize=5, color='black')\n",
        "\n",
        "# Shade the regions under the contrains\n",
        "plt.fill_between(x, y1, color='grey', alpha=0.5)\n",
        "plt.fill_between(x, y2, color='grey', alpha=0.5)\n",
        "\n",
        "\n",
        "# Mask region outside feasible region\n",
        "plt.fill_between(x, y1, y2, where=y2>y1, color='white', alpha=1)\n",
        "plt.fill_between(x, y1, y2, where=y2<y1, color='white', alpha=1)\n",
        "\n",
        "# Plugin in values for x,y\n",
        "f = (80*10 + 70*20)\n",
        "\n",
        "# Objective function expressed as a function of y\n",
        "o = (-((8/7)*x) + (1/70)*f)\n",
        "\n",
        "plt.plot(x, o, label=r'(10,20)', marker=\"o\", markersize=1, color='red')"
      ],
      "metadata": {
        "colab": {
          "base_uri": "https://localhost:8080/",
          "height": 287
        },
        "id": "wUeOcAE_bXsc",
        "outputId": "29dee908-78f9-4031-add1-a871faa298ad"
      },
      "execution_count": null,
      "outputs": [
        {
          "output_type": "execute_result",
          "data": {
            "text/plain": [
              "[<matplotlib.lines.Line2D at 0x7ff671d799d0>]"
            ]
          },
          "metadata": {},
          "execution_count": 23
        },
        {
          "output_type": "display_data",
          "data": {
            "text/plain": [
              "<Figure size 432x288 with 1 Axes>"
            ],
            "image/png": "[encoded data removed]"
          },
          "metadata": {
            "needs_background": "light"
          }
        }
      ]
    },
    {
      "cell_type": "code",
      "source": [
        "print(f\"The maximum profit for this LP is\")\n",
        "print(f\"{(80*(10*10**4) + 70*(20*10**4))} in cents\")\n",
        "print(f\"{int((80*(10*10**4) + 70*(20*10**4))/100)} in dollars\")"
      ],
      "metadata": {
        "colab": {
          "base_uri": "https://localhost:8080/"
        },
        "id": "14XEl0QlcBTS",
        "outputId": "e3a444ba-f69b-48e8-b4a9-2fb6a7fd7cb8"
      },
      "execution_count": 11,
      "outputs": [
        {
          "output_type": "stream",
          "name": "stdout",
          "text": [
            "The maximum profit for this LP is\n",
            "22000000 in cents\n",
            "220000 in dollars\n"
          ]
        }
      ]
    },
    {
      "cell_type": "code",
      "source": [
        ""
      ],
      "metadata": {
        "id": "SkDUUiRwSZKL"
      },
      "execution_count": null,
      "outputs": []
    }
  ]
}