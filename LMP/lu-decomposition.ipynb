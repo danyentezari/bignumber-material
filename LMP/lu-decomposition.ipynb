{
 "cells": [
  {
   "cell_type": "code",
   "execution_count": null,
   "metadata": {},
   "outputs": [],
   "source": [
    "import numpy as np\n",
    "\n",
    "# A = [\n",
    "#     [1,2,1],\n",
    "#     [3,8,1],\n",
    "#     [0,4,1]\n",
    "# ]\n",
    "# A = np.array(A)\n",
    "\n",
    "# E = [ \n",
    "#     [1,0,0],\n",
    "#     [-3,1,0],\n",
    "#     [0,0,1]   \n",
    "# ]\n",
    "# E = np.array(E)\n",
    "\n",
    "# np.matmul(E, A)"
   ]
  },
  {
   "cell_type": "code",
   "execution_count": 78,
   "metadata": {},
   "outputs": [
    {
     "data": {
      "text/plain": [
       "array([[ 100,  100, 4000],\n",
       "       [   0,  100, 3000],\n",
       "       [   0,    0,    0]])"
      ]
     },
     "execution_count": 78,
     "metadata": {},
     "output_type": "execute_result"
    }
   ],
   "source": [
    "A = np.array([\n",
    "    [200, 100, 4000],\n",
    "    [100, 100, 3000],\n",
    "    [0, 0, 0]\n",
    "])\n",
    "\n",
    "E = np.array([ \n",
    "    [1,0,0],\n",
    "    [-1,1,0],\n",
    "    [0,0,1]\n",
    "])\n",
    "\n",
    "\n",
    "A = np.matmul(A, E)\n",
    "A"
   ]
  },
  {
   "cell_type": "code",
   "execution_count": 52,
   "metadata": {},
   "outputs": [
    {
     "data": {
      "text/plain": [
       "array([[ 100,    0, 1000],\n",
       "       [   0,  100, 2000],\n",
       "       [   0,    0,    0]])"
      ]
     },
     "execution_count": 52,
     "metadata": {},
     "output_type": "execute_result"
    }
   ],
   "source": [
    "E = np.array([ \n",
    "    [1,0,0],\n",
    "    [-1,1,0],\n",
    "    [0,0,1]\n",
    "])\n",
    "\n",
    "A = np.matmul(E, A)\n",
    "A"
   ]
  },
  {
   "cell_type": "code",
   "execution_count": 53,
   "metadata": {},
   "outputs": [
    {
     "data": {
      "text/plain": [
       "array([[   1,    0,   10],\n",
       "       [   0,  100, 2000],\n",
       "       [   0,    0,    0]])"
      ]
     },
     "execution_count": 53,
     "metadata": {},
     "output_type": "execute_result"
    }
   ],
   "source": [
    "E = np.array([ \n",
    "    [1/100,0,0],\n",
    "    [0,1,0],\n",
    "    [0,0,1]\n",
    "])\n",
    "\n",
    "A = np.matmul(E, A)\n",
    "A.astype('int')"
   ]
  },
  {
   "cell_type": "code",
   "execution_count": 54,
   "metadata": {},
   "outputs": [
    {
     "data": {
      "text/plain": [
       "array([[ 1,  0, 10],\n",
       "       [ 0,  1, 20],\n",
       "       [ 0,  0,  0]])"
      ]
     },
     "execution_count": 54,
     "metadata": {},
     "output_type": "execute_result"
    }
   ],
   "source": [
    "E = np.array([ \n",
    "    [1,0,0],\n",
    "    [0,1/100,0],\n",
    "    [0,0,1]\n",
    "])\n",
    "\n",
    "A = np.matmul(E, A)\n",
    "A.astype('int')"
   ]
  },
  {
   "cell_type": "code",
   "execution_count": 56,
   "metadata": {},
   "outputs": [
    {
     "data": {
      "text/plain": [
       "array([[0, 4, 1],\n",
       "       [3, 8, 1],\n",
       "       [1, 2, 1]])"
      ]
     },
     "execution_count": 56,
     "metadata": {},
     "output_type": "execute_result"
    }
   ],
   "source": [
    "M = [\n",
    "    [1,2,1],\n",
    "    [3,8,1],\n",
    "    [0,4,1]\n",
    "]\n",
    "M = np.array(M)\n",
    "\n",
    "E_ = [ \n",
    "    [0,0,1],\n",
    "    [0,1,0],\n",
    "    [1,0,0]   \n",
    "]\n",
    "E_ = np.array(E_)\n",
    "\n",
    "np.matmul(E_, M)"
   ]
  },
  {
   "cell_type": "code",
   "execution_count": 57,
   "metadata": {},
   "outputs": [
    {
     "data": {
      "text/plain": [
       "array([[ 1.,  0., 10.],\n",
       "       [ 0.,  1., 20.],\n",
       "       [ 0.,  0.,  0.]])"
      ]
     },
     "execution_count": 57,
     "metadata": {},
     "output_type": "execute_result"
    }
   ],
   "source": [
    "A"
   ]
  },
  {
   "cell_type": "code",
   "execution_count": 86,
   "metadata": {},
   "outputs": [
    {
     "data": {
      "text/plain": [
       "array([[ 100,  100, 4000],\n",
       "       [ 100,  200, 7000],\n",
       "       [   0,    0,    0]])"
      ]
     },
     "execution_count": 86,
     "metadata": {},
     "output_type": "execute_result"
    }
   ],
   "source": [
    "_E = np.array([\n",
    "    [1,0,0],\n",
    "    [1,1,0],\n",
    "    [0,0,1]  \n",
    "])\n",
    "\n",
    "\n",
    "U = np.array([\n",
    "       [ 100,  100, 4000],\n",
    "       [   0,  100, 3000],\n",
    "       [   0,    0,    0]\n",
    "])\n",
    "\n",
    "np.matmul(_E, U)"
   ]
  },
  {
   "cell_type": "code",
   "execution_count": 91,
   "metadata": {},
   "outputs": [
    {
     "data": {
      "text/plain": [
       "array([[ 1.,  2., -3.],\n",
       "       [-3., -4., 13.],\n",
       "       [-2., -7.,  7.]])"
      ]
     },
     "execution_count": 91,
     "metadata": {},
     "output_type": "execute_result"
    }
   ],
   "source": [
    "A_ = np.array(\n",
    "    [\n",
    "        1,2,-3,\n",
    "        -3,-4,13,\n",
    "        2,1,-5\n",
    "    ]\n",
    ")\n",
    "\n",
    "L = np.array([\n",
    "    [1,0,0],\n",
    "    [-3,1,0],\n",
    "    [-2, -3/2, 1]\n",
    "])\n",
    "\n",
    "U = np.array([\n",
    "    [1,2,-3],\n",
    "    [0,2,4],\n",
    "    [0,0,7]   \n",
    "])\n",
    "\n",
    "np.matmul(L,U)"
   ]
  },
  {
   "cell_type": "code",
   "execution_count": 113,
   "metadata": {},
   "outputs": [
    {
     "data": {
      "text/plain": [
       "array([[ 1,  2,  3],\n",
       "       [ 0, -2,  4],\n",
       "       [ 2,  1,  5]])"
      ]
     },
     "execution_count": 113,
     "metadata": {},
     "output_type": "execute_result"
    }
   ],
   "source": [
    "A_ = np.array(\n",
    "    [\n",
    "        [1,2,3],\n",
    "        [3,4,13],\n",
    "        [2,1,5]\n",
    "    ]\n",
    ")\n",
    "\n",
    "L = np.array([\n",
    "    [1,0,0],\n",
    "    [-3,1,0],\n",
    "    [0,0,1]\n",
    "])\n",
    "\n",
    "# U = np.array([\n",
    "#     [1,2,-3],\n",
    "#     [0,2,4],\n",
    "#     [0,0,7]   \n",
    "# ])\n",
    "\n",
    "# np.matmul(L,U)\n",
    "\n",
    "np.matmul(L, A_)"
   ]
  },
  {
   "cell_type": "code",
   "execution_count": 126,
   "metadata": {},
   "outputs": [
    {
     "data": {
      "text/plain": [
       "array([[ 1,  2,  3],\n",
       "       [ 0, -2,  4],\n",
       "       [ 0, -3, -1]])"
      ]
     },
     "execution_count": 126,
     "metadata": {},
     "output_type": "execute_result"
    }
   ],
   "source": [
    "A_ = np.array([\n",
    "       [ 1,  2,  3],\n",
    "       [ 0, -2,  4],\n",
    "       [ 2,  1,  5]\n",
    "])\n",
    "\n",
    "L = np.array([\n",
    "    [1,0,0],\n",
    "    [0,1,0],\n",
    "    [-2,0,1]\n",
    "])\n",
    "\n",
    "np.matmul(L, A_)"
   ]
  },
  {
   "cell_type": "code",
   "execution_count": 130,
   "metadata": {},
   "outputs": [
    {
     "data": {
      "text/plain": [
       "array([[ 1.,  2.,  3.],\n",
       "       [ 0., -2.,  4.],\n",
       "       [ 0.,  0., -7.]])"
      ]
     },
     "execution_count": 130,
     "metadata": {},
     "output_type": "execute_result"
    }
   ],
   "source": [
    "A_ = np.array([\n",
    "       [ 1,  2,  3],\n",
    "       [ 0, -2,  4],\n",
    "       [ 0, -3, -1]\n",
    "    ]\n",
    ")\n",
    "\n",
    "\n",
    "L = np.array([\n",
    "    [1,0,0],\n",
    "    [0,1,0],\n",
    "    [0,-3/2,1]\n",
    "])\n",
    "\n",
    "np.matmul(L, A_)\n"
   ]
  },
  {
   "cell_type": "code",
   "execution_count": 134,
   "metadata": {},
   "outputs": [
    {
     "data": {
      "text/plain": [
       "array([[ 1.,  2.,  3.],\n",
       "       [ 3.,  4., 13.],\n",
       "       [-2., -1., -5.]])"
      ]
     },
     "execution_count": 134,
     "metadata": {},
     "output_type": "execute_result"
    }
   ],
   "source": [
    "L = np.array([\n",
    "    [1,0,0],\n",
    "    [3,1,0],\n",
    "    [-2,-3/2,1]\n",
    "])\n",
    "\n",
    "U = np.array([\n",
    "       [ 1,  2,  3],\n",
    "       [ 0, -2,  4],\n",
    "       [ 0,  0, -7]\n",
    "    ]\n",
    ")\n",
    "\n",
    "np.matmul(L, U)\n"
   ]
  }
 ],
 "metadata": {
  "kernelspec": {
   "display_name": "Python 3.9.4 64-bit",
   "language": "python",
   "name": "python3"
  },
  "language_info": {
   "codemirror_mode": {
    "name": "ipython",
    "version": 3
   },
   "file_extension": ".py",
   "mimetype": "text/x-python",
   "name": "python",
   "nbconvert_exporter": "python",
   "pygments_lexer": "ipython3",
   "version": "3.9.4"
  },
  "orig_nbformat": 4,
  "vscode": {
   "interpreter": {
    "hash": "949777d72b0d2535278d3dc13498b2535136f6dfe0678499012e853ee9abcab1"
   }
  }
 },
 "nbformat": 4,
 "nbformat_minor": 2
}
