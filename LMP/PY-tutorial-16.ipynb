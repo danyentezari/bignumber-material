{
  "nbformat": 4,
  "nbformat_minor": 0,
  "metadata": {
    "colab": {
      "name": "PY-tutorial-16.ipynb",
      "provenance": []
    },
    "kernelspec": {
      "name": "python3",
      "display_name": "Python 3"
    },
    "language_info": {
      "name": "python"
    }
  },
  "cells": [
    {
      "cell_type": "code",
      "execution_count": null,
      "metadata": {
        "id": "JIv2xCPSxm--"
      },
      "outputs": [],
      "source": [
        "import numpy as np\n",
        "import math"
      ]
    },
    {
      "cell_type": "code",
      "source": [
        "B = np.array([\n",
        "  [1,1,0],\n",
        "  [1,2,0],\n",
        "  [0,1,2]\n",
        "])\n",
        "\n",
        "# B after orthogonolization \n",
        "# See Gram-Schmidt algorithm here:\n",
        "# https://media.cheggcdn.com/media%2Ffa3%2Ffa3fb1ca-e6d4-469d-8691-58dc5624d7cf%2FphpEAj5dG.png\n",
        "B_orthog = np.array([\n",
        "  [1,1,0],\n",
        "  [-0.5,0.5,0],\n",
        "  [0,0,2]\n",
        "])\n",
        "\n",
        "B_orthon = np.array([])"
      ],
      "metadata": {
        "id": "p01VWiRyxtKq"
      },
      "execution_count": null,
      "outputs": []
    },
    {
      "cell_type": "code",
      "source": [
        "# Normalize the vectors of B\n",
        "B_orthon = np.array([\n",
        "              1/np.linalg.norm(B[0]) * B[0],\n",
        "              1/np.linalg.norm(B[1]) * B[1],\n",
        "              1/np.linalg.norm(B[2]) * B[2]\n",
        "            ])"
      ],
      "metadata": {
        "id": "9z3wqyeMyMZI"
      },
      "execution_count": null,
      "outputs": []
    },
    {
      "cell_type": "code",
      "source": [
        "B_orthon"
      ],
      "metadata": {
        "colab": {
          "base_uri": "https://localhost:8080/"
        },
        "id": "R6aHQzwmygta",
        "outputId": "9cbb991b-3c74-4a0c-fe54-542133cda7c5"
      },
      "execution_count": null,
      "outputs": [
        {
          "output_type": "execute_result",
          "data": {
            "text/plain": [
              "array([[0.70710678, 0.70710678, 0.        ],\n",
              "       [0.4472136 , 0.89442719, 0.        ],\n",
              "       [0.        , 0.4472136 , 0.89442719]])"
            ]
          },
          "metadata": {},
          "execution_count": 18
        }
      ]
    }
  ]
}