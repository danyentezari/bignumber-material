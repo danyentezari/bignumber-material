{
 "cells": [
  {
   "attachments": {},
   "cell_type": "markdown",
   "metadata": {},
   "source": [
    "# Capstone Project"
   ]
  },
  {
   "attachments": {},
   "cell_type": "markdown",
   "metadata": {},
   "source": [
    "**Instructions**\n",
    "\n",
    "This capstone project is designed to demonstrate your ability to apply what you have learned to <br/>\n",
    "a real-world problem that requires statistics, programming, and machine learning.\n",
    "\n",
    "<br/><br/>\n",
    "\n",
    "In this project, you will need to perform the following tasks:<br/>\n",
    "\n",
    "**1. Describe**<br/>\n",
    "- Provide summary of the data. \n",
    "- Preprocess and visualize the data.\n",
    "- Determine response and explanatory variables.\n",
    "- Determine OLS assumptions hold.\n",
    "- Include both visualization and hypothesis tests for OLS assumptions.\n",
    "\n",
    "**2. Model** <br/>\n",
    "- Determine correlations in the variables.\n",
    "- Model data via multiple regression model.\n",
    "- Determine parameters of model, including residuals.\n",
    "- Determine performance of model both visually and quantitavely.\n",
    "\n",
    "**4. Optimize** <br/>\n",
    "- Use machine learning as an alternative to multiple regression, such as random forest or neural network\n",
    "- Determine performance of models for entirety of data\n",
    "- Compare regression metrics for models implemented \n",
    "\n",
    "**4. Conclusion**<br/>\n",
    "- Determine accuracy and error of your model(s)\n",
    "- Identify problems associated with the data and models\n",
    "- Suggest solutions for addressing the problems you have identified\n",
    "- Provide any additional relevant comments for your study"
   ]
  },
  {
   "cell_type": "code",
   "execution_count": null,
   "metadata": {},
   "outputs": [],
   "source": [
    "# Suggested Data for Capstone Project\n",
    "# https://raw.githubusercontent.com/danyentezari/bignumber-material/master/SPML%20Dubai/mod3/conversion-data.csv"
   ]
  },
  {
   "attachments": {},
   "cell_type": "markdown",
   "metadata": {},
   "source": []
  }
 ],
 "metadata": {
  "language_info": {
   "name": "python"
  },
  "orig_nbformat": 4
 },
 "nbformat": 4,
 "nbformat_minor": 2
}
