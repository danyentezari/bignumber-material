{
 "cells": [
  {
   "attachments": {},
   "cell_type": "markdown",
   "metadata": {},
   "source": [
    "# ANOVA (Analysis of Variance) Example"
   ]
  },
  {
   "attachments": {},
   "cell_type": "markdown",
   "metadata": {},
   "source": [
    "Here are the steps for calculating the metrics for performing ANOVA (Analysis of Variance). \n",
    "\n",
    "Note that in the context of ANOVA, the word \"group\" is synonymous with independent variable.\n",
    "\n",
    "1. State the hypothesis:\n",
    "\n",
    "    - $H_0:$ There is no statistically signficicant difference between the performance of the models,\n",
    "    - $H_1​​:$ There is statistically signficicant difference between the performance of the models.\n",
    "    \n",
    "<br/>\n",
    "\n",
    "2. Calculate the mean of observations:\n",
    "\n",
    "    - $\\bar{X} = \\dfrac{1}{N} \\displaystyle\\sum_{i=1}^{k} \\displaystyle\\sum_{j=1}^{n_{j}} ​​X_{ij}​$ <br/>\n",
    "\n",
    "    where: <br/>\n",
    "    - $N$ is the total number of observations <br/>\n",
    "    - $k$ is the number of groups <br/>\n",
    "    - $n_i$ is the number of observations in group $i$ <br/>\n",
    "    - $X_{ij}$ is the $j$th observation in group $i$ <br/>\n",
    "\n",
    "<br/>\n",
    "\n",
    "3. Calculate the sum of squares between groups ($SS_{\\text{between}}$):\n",
    "\n",
    "    - $SS_{\\text{between}} = \\sum_{i=1}^{k} n_i (\\bar{X}_i - \\bar{X})^2$\n",
    "\n",
    "<br/>\n",
    "\n",
    "4. Calculate the sum of squares within groups ($SS_{\\text{within}}$):\n",
    "\n",
    "    - $SS_{\\text{within}} = \\sum_{i=1}^{k}\\sum_{j=1}^{n_i}(X_{ij} - \\bar{X}_i)^2$\n",
    "\n",
    "<br/>\n",
    "\n",
    "4. Calculate the mean square between groups (MSB):\n",
    "\n",
    "    - $MSB = \\dfrac{SS_{\\text{between}}}{k-1}$\n",
    "\n",
    "<br/>\n",
    "\n",
    "5. Calculate the mean square within groups (MSW):\n",
    "\n",
    "    - $MSW = \\dfrac{{SS_{\\text{within}}}}{{N-k}}$\n",
    "\n",
    "<br/>\n",
    "\n",
    "6. Calculate the F-statistic:\n",
    "\n",
    "    - $F = \\dfrac{MSW}{MSB}$\n",
    "\n",
    "<br/>\n",
    "\n",
    "7. Determine the critical F-value based on the significance level ($\\alpha$) and degrees of freedom ($df_1$ and $df_2$) using a statistical table or software.\n",
    "\n",
    "<br/>\n",
    "\n",
    "8. Compare the calculated F-value with the critical F-value. If the calculated F-value is greater than the critical F-value, reject the null hypothesis; otherwise, fail to reject the null hypothesis is rejected to identify which groups are significantly different from each other.\n"
   ]
  },
  {
   "cell_type": "code",
   "execution_count": 2,
   "metadata": {},
   "outputs": [],
   "source": [
    "# Import libraries\n",
    "import numpy as np\n",
    "import pandas as pd\n",
    "import statsmodels.api as sm\n",
    "from statsmodels.formula.api import ols"
   ]
  },
  {
   "cell_type": "code",
   "execution_count": 5,
   "metadata": {},
   "outputs": [],
   "source": [
    "# Save randomization pattern\n",
    "np.random.seed(1)\n",
    "\n",
    "# Generate synthetic data, D = {X1, X2, X3, Y}\n",
    "N = 100  # Number of samples\n",
    "X1 = np.random.normal(0.1, 1, N) + 0.01 * np.random.normal(0, 1, N)  # Independent variable with added noise\n",
    "X2 = np.random.normal(-0.2, 1.5, N) + 0.01 * np.random.normal(0, 1, N)  # Additional predictor with added noise\n",
    "X3 = np.random.normal(0.3, 2, N) + 0.01 * np.random.normal(0, 1, N)  # Additional predictor with added noise\n",
    "Y = X1 + X2 + X3 + np.random.normal(0, 1, N)  # Dependent variable"
   ]
  },
  {
   "cell_type": "code",
   "execution_count": 6,
   "metadata": {},
   "outputs": [
    {
     "name": "stdout",
     "output_type": "stream",
     "text": [
      "   df_resid         ssr  df_diff     ss_diff    F  Pr(>F)  Residuals_lm1  \\\n",
      "1      97.0  362.171161     -0.0  230.922702 -inf     NaN       0.227269   \n",
      "\n",
      "   Residuals_lm2  \n",
      "1       1.634136  \n"
     ]
    }
   ],
   "source": [
    "# Create a dataframe\n",
    "df = pd.DataFrame({'X1': X1, 'X2': X2, 'X3': X3, 'Y': Y})\n",
    "\n",
    "# Fit the linear regression model 1\n",
    "model_lm1 = ols('Y ~ X1 + X2', data=df).fit()\n",
    "\n",
    "# Fit the linear regression model 2\n",
    "model_lm2 = ols('Y ~ X1 + X3', data=df).fit()\n",
    "\n",
    "# Compute residuals for linear regression model 1\n",
    "residuals_lm1 = df['Y'] - model_lm1.fittedvalues\n",
    "\n",
    "# Compute residuals for linear regression model 2\n",
    "residuals_lm2 = df['Y'] - model_lm2.fittedvalues\n",
    "\n",
    "# Perform ANOVA (or comparison) between the two linear regression models\n",
    "anova_results = sm.stats.anova_lm(model_lm1, model_lm2)\n",
    "anova_results['Residuals_lm1'] = residuals_lm1\n",
    "anova_results['Residuals_lm2'] = residuals_lm2\n",
    "\n",
    "# Drop rows with missing values in ss_diff and F\n",
    "anova_results.dropna(subset=['ss_diff', 'F'], inplace=True)\n",
    "\n",
    "print(anova_results)"
   ]
  },
  {
   "cell_type": "code",
   "execution_count": null,
   "metadata": {},
   "outputs": [],
   "source": []
  }
 ],
 "metadata": {
  "kernelspec": {
   "display_name": "Python 3",
   "language": "python",
   "name": "python3"
  },
  "language_info": {
   "codemirror_mode": {
    "name": "ipython",
    "version": 3
   },
   "file_extension": ".py",
   "mimetype": "text/x-python",
   "name": "python",
   "nbconvert_exporter": "python",
   "pygments_lexer": "ipython3",
   "version": "3.9.4"
  },
  "orig_nbformat": 4
 },
 "nbformat": 4,
 "nbformat_minor": 2
}
