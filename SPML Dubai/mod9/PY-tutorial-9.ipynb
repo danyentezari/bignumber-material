{
 "cells": [
  {
   "cell_type": "code",
   "execution_count": 1,
   "metadata": {},
   "outputs": [],
   "source": [
    "import numpy as np"
   ]
  },
  {
   "cell_type": "code",
   "execution_count": 46,
   "metadata": {},
   "outputs": [
    {
     "data": {
      "text/plain": [
       "array([[ 1,  2, -3],\n",
       "       [-3, -4, 13],\n",
       "       [ 2,  1,  5]])"
      ]
     },
     "execution_count": 46,
     "metadata": {},
     "output_type": "execute_result"
    }
   ],
   "source": [
    "A = np.array([\n",
    "    [1,     2,     -3],\n",
    "    [-3,    -4,    13],\n",
    "    [2,     1,      5]\n",
    "])\n",
    "\n",
    "\n",
    "I = np.array([\n",
    "    [1,     0,       0],\n",
    "    [0,     1,       0],\n",
    "    [0,     0,       1]\n",
    "])\n",
    "\n",
    "np.matmul(I, A)"
   ]
  },
  {
   "cell_type": "code",
   "execution_count": 40,
   "metadata": {},
   "outputs": [
    {
     "data": {
      "text/plain": [
       "array([[ 1,  2, -3],\n",
       "       [ 0,  2,  4],\n",
       "       [ 2,  1,  5]])"
      ]
     },
     "execution_count": 40,
     "metadata": {},
     "output_type": "execute_result"
    }
   ],
   "source": [
    "E1 = np.array([\n",
    "    [1,     0,       0],\n",
    "    [3,     1,      0],\n",
    "    [0,     0,       1]\n",
    "])\n",
    "\n",
    "A = np.matmul(E1, A)\n",
    "A"
   ]
  },
  {
   "cell_type": "code",
   "execution_count": 47,
   "metadata": {},
   "outputs": [
    {
     "data": {
      "text/plain": [
       "array([[ 1,  2, -3],\n",
       "       [ 0,  2,  4],\n",
       "       [ 0, -3, 11]])"
      ]
     },
     "execution_count": 47,
     "metadata": {},
     "output_type": "execute_result"
    }
   ],
   "source": [
    "A = np.array([\n",
    "       [ 1,  2, -3],\n",
    "       [ 0,  2,  4],\n",
    "       [ 2,  1,  5]\n",
    "    ]\n",
    ")\n",
    "\n",
    "\n",
    "E2 = np.array([\n",
    "    [1,     0,       0],\n",
    "    [0,     1,       0],\n",
    "    [-2,     0,      1]\n",
    "])\n",
    "\n",
    "A = np.matmul(E2, A)\n",
    "A"
   ]
  },
  {
   "cell_type": "code",
   "execution_count": 48,
   "metadata": {},
   "outputs": [
    {
     "data": {
      "text/plain": [
       "array([[ 1.,  2., -3.],\n",
       "       [ 0.,  2.,  4.],\n",
       "       [ 0.,  0., 17.]])"
      ]
     },
     "execution_count": 48,
     "metadata": {},
     "output_type": "execute_result"
    }
   ],
   "source": [
    "A = np.array([\n",
    "       [ 1,  2, -3],\n",
    "       [ 0,  2,  4],\n",
    "       [ 0, -3, 11]\n",
    "       ]\n",
    ")\n",
    "\n",
    "E3 = np.array([\n",
    "       [ 1,  0,    0],\n",
    "       [ 0,  1,    0],\n",
    "       [ 0, 3/2,   1]\n",
    "    ]\n",
    ")\n",
    "\n",
    "A = np.matmul(E3, A)\n",
    "A"
   ]
  },
  {
   "cell_type": "code",
   "execution_count": 52,
   "metadata": {},
   "outputs": [],
   "source": [
    "E1 = np.array([\n",
    "    [1,     0,       0],\n",
    "    [-3,     1,       0],\n",
    "    [0,     0,       1]\n",
    "])\n",
    "\n",
    "E2 = np.array([\n",
    "    [1,     0,       0],\n",
    "    [0,     1,       0],\n",
    "    [2,     0,      1]\n",
    "])\n",
    "\n",
    "E3 = np.array([\n",
    "    [1,     0,      0],\n",
    "    [0,     1,      0],\n",
    "    [0,     -3/2,    1]\n",
    "])\n",
    "\n",
    "\n",
    "\n",
    "\n",
    "A = np.array([\n",
    "    [1,     2,     -3],\n",
    "    [-3,    -4,     13],\n",
    "    [2,     1,     -5]\n",
    "])\n",
    "\n",
    "\n",
    "\n",
    "L = np.array([\n",
    "    [1,     0,        0],\n",
    "    [-3,     1,       0],\n",
    "    [2,     -3/2,     1]\n",
    "])\n",
    "\n",
    "U = np.array([\n",
    "    [1,     2,      -3],\n",
    "    [0,     2,      4],\n",
    "    [0,     0,      7]\n",
    "])"
   ]
  },
  {
   "cell_type": "code",
   "execution_count": 54,
   "metadata": {},
   "outputs": [
    {
     "data": {
      "text/plain": [
       "array([[ 1,  2, -3],\n",
       "       [-3, -4, 13],\n",
       "       [ 2,  1, -5]])"
      ]
     },
     "execution_count": 54,
     "metadata": {},
     "output_type": "execute_result"
    }
   ],
   "source": [
    "np.matmul(L, U).astype('int')"
   ]
  },
  {
   "cell_type": "code",
   "execution_count": 43,
   "metadata": {},
   "outputs": [],
   "source": [
    "# M = np.array([\n",
    "#     [ 2, 0, 0 ],\n",
    "#     [ 1, 1, 0 ],\n",
    "#     [ 0, 0, 0]\n",
    "# ])\n",
    "\n",
    "\n",
    "# E = np.array([\n",
    "#     [1, 0, 0],\n",
    "#     [0, 1, 0],\n",
    "#     [0, 0, 1]\n",
    "# ])\n",
    "\n",
    "\n",
    "\n",
    "# np.matmul(M, E)"
   ]
  }
 ],
 "metadata": {
  "kernelspec": {
   "display_name": "Python 3.9.4 64-bit",
   "language": "python",
   "name": "python3"
  },
  "language_info": {
   "codemirror_mode": {
    "name": "ipython",
    "version": 3
   },
   "file_extension": ".py",
   "mimetype": "text/x-python",
   "name": "python",
   "nbconvert_exporter": "python",
   "pygments_lexer": "ipython3",
   "version": "3.9.4"
  },
  "orig_nbformat": 4,
  "vscode": {
   "interpreter": {
    "hash": "949777d72b0d2535278d3dc13498b2535136f6dfe0678499012e853ee9abcab1"
   }
  }
 },
 "nbformat": 4,
 "nbformat_minor": 2
}
