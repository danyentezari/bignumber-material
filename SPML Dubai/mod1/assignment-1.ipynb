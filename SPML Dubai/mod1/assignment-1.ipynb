{
 "cells": [
  {
   "attachments": {},
   "cell_type": "markdown",
   "metadata": {},
   "source": [
    "# Assignment 1"
   ]
  },
  {
   "attachments": {},
   "cell_type": "markdown",
   "metadata": {},
   "source": [
    "Where <br/> \n",
    "- $X =\\{ 5,5,5,6,7,8,8,9 \\}$"
   ]
  },
  {
   "attachments": {},
   "cell_type": "markdown",
   "metadata": {},
   "source": [
    "> Question (1)\n",
    "> - Find the median of $X$\n",
    "> - Find the mode of $X$\n",
    "> - Find the (population) mean of $X$"
   ]
  },
  {
   "attachments": {},
   "cell_type": "markdown",
   "metadata": {},
   "source": [
    "median = \n",
    "\n",
    "mode = \n",
    "\n",
    "mean ="
   ]
  },
  {
   "attachments": {},
   "cell_type": "markdown",
   "metadata": {},
   "source": [
    "> Question (2)\n",
    "> - Find the variance of $X$\n",
    "> - Find the standard deviatiof $X$"
   ]
  },
  {
   "attachments": {},
   "cell_type": "markdown",
   "metadata": {},
   "source": [
    "variance = \n",
    "\n",
    "standard deviation = "
   ]
  },
  {
   "attachments": {},
   "cell_type": "markdown",
   "metadata": {},
   "source": [
    "> Question (3) <br/><br/>\n",
    "> Evaluate the following expression for the mean deviation (note: this is not the formula mean average) <br/>\n",
    "> \n",
    "> <br/>&nbsp;\n",
    "> $\\displaystyle\\sum\\limits_{i=1}^{8} |x_i - \\mu|$ <br/><br/>\n",
    "> where\n",
    "> - $x_i \\in X$ \n",
    "> - $\\mu$ is the mean average from Question (1)"
   ]
  },
  {
   "attachments": {},
   "cell_type": "markdown",
   "metadata": {},
   "source": [
    "result = "
   ]
  },
  {
   "attachments": {},
   "cell_type": "markdown",
   "metadata": {},
   "source": [
    "> Question (4) <br/><br/>\n",
    "> Indicate the meanings of the following symbols\n",
    "> 1. $\\bar{x}$\n",
    "> 2. $s$\n",
    "> 3. $n$\n",
    "> 4. $N$\n",
    "> 5. $\\sigma$\n",
    "> 6. $\\sigma^2$"
   ]
  },
  {
   "attachments": {},
   "cell_type": "markdown",
   "metadata": {},
   "source": [
<<<<<<< HEAD
    "1 =\n",
    "\n",
    "2 =\n",
    "\n",
    "3 =\n",
    "\n",
    "4 =\n",
    "\n",
    "5 =\n",
    "\n",
=======
    "1 = \n",
    "2 = \n",
    "3 =\n",
    "4 = \n",
    "5 =\n",
>>>>>>> ee30235eaad602c53d9c583c3405f74cccdf7af4
    "6 ="
   ]
  }
 ],
 "metadata": {
  "language_info": {
   "name": "python"
  },
  "orig_nbformat": 4
 },
 "nbformat": 4,
 "nbformat_minor": 2
}
