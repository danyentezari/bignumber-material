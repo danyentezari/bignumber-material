{
 "cells": [
  {
   "attachments": {},
   "cell_type": "markdown",
   "metadata": {},
   "source": [
    "# Mod 1"
   ]
  },
  {
   "attachments": {},
   "cell_type": "markdown",
   "metadata": {},
   "source": [
    "Where <br/>\n",
    "- $\\mathbf{X}$ is the entire excel sheet<br/>\n",
    "- $X_{quantity} \\subset \\mathbf{X}$<br/>\n",
    "- $X_{quantity_{10}}$ is the first 10 rows in $X_{quantity}$<br/>\n",
    "- $N$ is the row size of $\\mathbf{X}$ "
   ]
  },
  {
   "attachments": {},
   "cell_type": "markdown",
   "metadata": {},
   "source": [
    "## Exercise 2"
   ]
  },
  {
   "attachments": {},
   "cell_type": "markdown",
   "metadata": {},
   "source": [
    "1. Find the Population Mean for $X_{quantity}$ = $ \\displaystyle\\frac{\\sum_{i=1}^Nx_i}{N} = \\mu$ <br/><br/>"
   ]
  },
  {
   "attachments": {},
   "cell_type": "markdown",
   "metadata": {},
   "source": [
    "> $=\\displaystyle\\frac{\\sum_{i=1}^{1000}x_i}{1000} = \\dfrac{5510}{1000} = 5.510$"
   ]
  },
  {
   "attachments": {},
   "cell_type": "markdown",
   "metadata": {},
   "source": [
    "2. Find the Sample Mean for $X_{quantity10}$ = $ \\displaystyle\\frac{\\sum_{i=1}^nx_i}{n-1} = \\bar{x} $"
   ]
  },
  {
   "attachments": {},
   "cell_type": "markdown",
   "metadata": {},
   "source": [
    "> $=\\displaystyle\\frac{\\sum_{i=1}^{10}x_i}{9} = \\dfrac{62}{9} = 6.89$"
   ]
  },
  {
   "attachments": {},
   "cell_type": "markdown",
   "metadata": {},
   "source": [
    "3. Find the Population Variance for $X_{quantity}$ = $ \\displaystyle\\frac{\\sum_{i=1}^N (\\mu-x_i)^2}{N} =\\sigma^2$ <br/><br/>\n",
    "\n"
   ]
  },
  {
   "attachments": {},
   "cell_type": "markdown",
   "metadata": {},
   "source": [
    "> $X_{quantity}$ = $ \\displaystyle\\frac{\\sum_{i=1}^{1000} (5.510-x_i)^2}{1000} = 8.54 =\\sigma^2$"
   ]
  },
  {
   "attachments": {},
   "cell_type": "markdown",
   "metadata": {},
   "source": [
    "4. Find the Sample Variance for $X_{quantity10}$ = $ \\displaystyle\\frac{\\sum_{i=1}^{n} (\\bar{x}-x_i)^2 }{n-1} = s^2$<br/><br/>"
   ]
  },
  {
   "attachments": {},
   "cell_type": "markdown",
   "metadata": {},
   "source": [
    ">$X_{quantity10}$ = $ \\displaystyle\\frac{\\sum_{i=1}^{10} (6.89-x_i)^2 }{9} = 5.51 = s^2$"
   ]
  }
 ],
 "metadata": {
  "language_info": {
   "name": "python"
  },
  "orig_nbformat": 4
 },
 "nbformat": 4,
 "nbformat_minor": 2
}
