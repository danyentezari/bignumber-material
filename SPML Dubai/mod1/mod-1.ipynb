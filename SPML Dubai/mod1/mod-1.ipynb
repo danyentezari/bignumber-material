{
 "cells": [
  {
   "attachments": {},
   "cell_type": "markdown",
   "metadata": {},
   "source": [
    "# Descriptive Statistics | Mod 1"
   ]
  },
  {
   "attachments": {},
   "cell_type": "markdown",
   "metadata": {},
   "source": [
    "#### Variables and Constants"
   ]
  },
  {
   "attachments": {},
   "cell_type": "markdown",
   "metadata": {},
   "source": [
    "> $a,b,c$\n",
    "\n",
    "> $x,y,z$\n",
    "\n",
    "> $i,j,k$\n",
    "\n",
    "> $n$"
   ]
  },
  {
   "attachments": {},
   "cell_type": "markdown",
   "metadata": {},
   "source": [
    "#### Set Notation"
   ]
  },
  {
   "attachments": {},
   "cell_type": "markdown",
   "metadata": {},
   "source": [
    "> $X = \\{ 4,5,6,2,1,9 \\}$"
   ]
  },
  {
   "attachments": {},
   "cell_type": "markdown",
   "metadata": {},
   "source": [
    "> $X_1 = \\{ 5,2 \\}$"
   ]
  },
  {
   "attachments": {},
   "cell_type": "markdown",
   "metadata": {},
   "source": [
    "> $X_1 \\subset X$"
   ]
  },
  {
   "attachments": {},
   "cell_type": "markdown",
   "metadata": {},
   "source": [
    "> $N = 6 = |X|$ <br/><br/>\n",
    ">$x_1 = 4$<br/>\n",
    ">$x_2 = 5$<br/>\n",
    ">$x_3 = 6$<br/>\n",
    ">$x_4 = 2$<br/>\n",
    ">$x_5 = 1$<br/>\n",
    ">$x_n = 9$"
   ]
  },
  {
   "cell_type": "markdown",
   "metadata": {},
   "source": [
    "> $x_i < 10$ "
   ]
  },
  {
   "attachments": {},
   "cell_type": "markdown",
   "metadata": {},
   "source": [
    "$\\in$ is read \"in\" and is used to indicate an element that belongs to a set\n",
    "<br/>\n",
    "\n",
    "> $x_1 \\in X$ <br/>\n",
    "> $x_2 \\in X$ <br/>\n",
    "> ...\n",
    "> $x_n \\in X$ <br/>"
   ]
  },
  {
   "attachments": {},
   "cell_type": "markdown",
   "metadata": {},
   "source": [
    "Where \"Room\" is a set, <br/><br/>\n",
    "\n",
    "> Alfred $\\in$ Room <br/>\n",
    "> Maya $\\in$ Room"
   ]
  },
  {
   "attachments": {},
   "cell_type": "markdown",
   "metadata": {},
   "source": [
    "#### Summation"
   ]
  },
  {
   "attachments": {},
   "cell_type": "markdown",
   "metadata": {},
   "source": [
    "> $\\displaystyle \\sum \\limits_{i=1}^{n} i = 1 + 2 + ... + n$"
   ]
  },
  {
   "attachments": {},
   "cell_type": "markdown",
   "metadata": {},
   "source": [
    "> $1+2+3+4+5 = 15$"
   ]
  },
  {
   "attachments": {},
   "cell_type": "markdown",
   "metadata": {},
   "source": [
    "> $\\displaystyle\\sum \\limits_{i=1}^{n=5} i = 1 + 2 + 3 + 4 + 5 = 15$"
   ]
  },
  {
   "attachments": {},
   "cell_type": "markdown",
   "metadata": {},
   "source": [
    "> $\\displaystyle\\prod_{i=1}^{n=5} i = 1 \\times 2 \\times 3 \\times 4 \\times 5 = 120$"
   ]
  },
  {
   "attachments": {},
   "cell_type": "markdown",
   "metadata": {},
   "source": [
    "> $X = \\{ 4,5,6,2,1,9 \\}$"
   ]
  },
  {
   "attachments": {},
   "cell_type": "markdown",
   "metadata": {},
   "source": [
    "> $4 + 5 + 6 + 2 + 1 + 9$"
   ]
  },
  {
   "attachments": {},
   "cell_type": "markdown",
   "metadata": {},
   "source": [
    "> $\\displaystyle\\sum \\limits_{i=1}^{6} x_i = x_1 + x_2 + x_3 + x_4 + x_5 + x_6 = 4 + 5 + 6 + 2 + 1 + 9$"
   ]
  },
  {
   "attachments": {},
   "cell_type": "markdown",
   "metadata": {},
   "source": [
    "### Measures of Central Tendency"
   ]
  },
  {
   "attachments": {},
   "cell_type": "markdown",
   "metadata": {},
   "source": [
    "- Mode = most occuring number <br/><br/>\n",
    "- Median = the number in the middle of the data <br/><br/>\n",
    "- Population Mean = $ \\displaystyle\\frac{\\sum_{i=1}^Nx_i}{N} = \\mu$ <br/><br/>\n",
    "- Sample Mean = $ \\displaystyle\\frac{\\sum_{i=1}^nx_i}{n-1} = \\bar{x} $"
   ]
  },
  {
   "attachments": {},
   "cell_type": "markdown",
   "metadata": {},
   "source": [
    "### Measures of Dispersion"
   ]
  },
  {
   "attachments": {},
   "cell_type": "markdown",
   "metadata": {},
   "source": [
    "- Population Variance = $ \\displaystyle\\frac{\\sum_{i=1}^N (\\mu-x_i)^2}{N} =\\sigma^2$ <br/><br/>\n",
    "\n",
    "- Sample Variance = $ \\displaystyle\\frac{\\sum_{i=1}^{n} (\\bar{x}-x_i)^2 }{n-1} = s^2$<br/><br/>\n",
    "\n",
    "- Population Standard Deviation = $\\sqrt{\\sigma^2} = \\sigma $\n",
    "\n",
    "- Sample Standard Deviation = $\\sqrt{s^2} = s $"
   ]
  },
  {
   "attachments": {},
   "cell_type": "markdown",
   "metadata": {},
   "source": [
    "Covariance"
   ]
  },
  {
   "attachments": {},
   "cell_type": "markdown",
   "metadata": {},
   "source": [
    "> $ \\displaystyle\\frac{\\sum_{i=1}^N (\\mu_x-x_i)^2 \\times (\\mu_y-y_i)^2}{N} = Cov(X,Y)$ <br/><br/>"
   ]
  },
  {
   "cell_type": "markdown",
   "metadata": {},
   "source": []
  }
 ],
 "metadata": {
  "language_info": {
   "name": "python"
  },
  "orig_nbformat": 4
 },
 "nbformat": 4,
 "nbformat_minor": 2
}
