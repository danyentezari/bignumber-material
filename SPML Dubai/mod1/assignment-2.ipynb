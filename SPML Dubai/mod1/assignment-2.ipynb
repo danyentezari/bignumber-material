{
 "cells": [
  {
   "attachments": {},
   "cell_type": "markdown",
   "metadata": {},
   "source": [
    "# Assignment 2"
   ]
  },
  {
   "cell_type": "code",
   "execution_count": null,
   "metadata": {},
   "outputs": [],
   "source": [
    "inventory = [\n",
    "    'HP HD Pavillion',\n",
    "    'Acer Aspire Vero',\n",
    "    'Dell Latitude 7490',\n",
    "    'Dell Inspiron 3511,'\n",
    "]\n",
    "\n",
    "prices = [\n",
    "    1946,\n",
    "    1894,\n",
    "    1424,\n",
    "    1954\n",
    "]"
   ]
  },
  {
   "cell_type": "code",
   "execution_count": null,
   "metadata": {},
   "outputs": [],
   "source": [
    "# 1. Use print() and len() to return show the number of items in 'inventory'"
   ]
  },
  {
   "cell_type": "code",
   "execution_count": null,
   "metadata": {},
   "outputs": [],
   "source": [
    "# 2. Use the for loop to print the value of each element in 'inventory'"
   ]
  },
  {
   "cell_type": "code",
   "execution_count": null,
   "metadata": {},
   "outputs": [],
   "source": [
    "# 3. Update your solution from (1) to print the price of each item next to the name of the product\n",
    "#    Your solution should look like this\n",
    "#    \"HP HD Pavillion, 1946\"\n",
    "#   \"Acer Aspire Vero, 1894\"\n",
    "\n",
    "# Hint: don't forget to use enumerate() function"
   ]
  },
  {
   "cell_type": "code",
   "execution_count": null,
   "metadata": {},
   "outputs": [],
   "source": [
    "# 4. Calculate the mean average of 'prices' WITH for loop.\n",
    "#    Use the 'prices' variable only. Do not hardcode any numbers here.\n",
    "\n",
    "# Hint: don't forget order of operations"
   ]
  },
  {
   "cell_type": "code",
   "execution_count": null,
   "metadata": {},
   "outputs": [],
   "source": [
    "# 5. Calculate the mean average of 'prices' WITH for loop.\n",
    "#    Use the 'prices' variable only. Do not hardcode any numbers here."
   ]
  },
  {
   "cell_type": "code",
   "execution_count": null,
   "metadata": {},
   "outputs": [],
   "source": [
    "# 6. Calculate the standard deviation of prices.\n",
    "\n",
    "# Hint: use ** to raise a base to a power.\n",
    "# Example: 2^4 in Python is 2**4"
   ]
  },
  {
   "cell_type": "code",
   "execution_count": null,
   "metadata": {},
   "outputs": [],
   "source": []
  }
 ],
 "metadata": {
  "language_info": {
   "name": "python"
  },
  "orig_nbformat": 4
 },
 "nbformat": 4,
 "nbformat_minor": 2
}
