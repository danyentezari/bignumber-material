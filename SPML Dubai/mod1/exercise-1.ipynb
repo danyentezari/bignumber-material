{
 "cells": [
  {
   "cell_type": "markdown",
   "metadata": {},
   "source": [
    "# Exercise 1"
   ]
  },
  {
   "attachments": {},
   "cell_type": "markdown",
   "metadata": {},
   "source": [
    "Where <br/>\n",
    "- $\\mathbf{X}$ is the entire excel sheet<br/>\n",
    "- $X_{quantity} \\subset \\mathbf{X}$<br/>\n",
    "- $X_{quantity_{10}}$ is the first 10 rows in $X_{quantity}$<br/>\n",
    "- $N$ is the row size of $\\mathbf{X}$ "
   ]
  },
  {
   "attachments": {},
   "cell_type": "markdown",
   "metadata": {},
   "source": [
    "1. Enter $N$"
   ]
  },
  {
   "attachments": {},
   "cell_type": "markdown",
   "metadata": {},
   "source": [
    "1000"
   ]
  },
  {
   "attachments": {},
   "cell_type": "markdown",
   "metadata": {},
   "source": [
    "2. Find $\\displaystyle \\sum \\limits_{i=1}^{N} X_{quantity}$"
   ]
  },
  {
   "attachments": {},
   "cell_type": "markdown",
   "metadata": {},
   "source": [
    "5510"
   ]
  },
  {
   "attachments": {},
   "cell_type": "markdown",
   "metadata": {},
   "source": [
    "3. Find $\\displaystyle \\sum \\limits_{i=1}^{N} X_{quantity10}$"
   ]
  },
  {
   "attachments": {},
   "cell_type": "markdown",
   "metadata": {},
   "source": [
    "62"
   ]
  }
 ],
 "metadata": {
  "language_info": {
   "name": "python"
  },
  "orig_nbformat": 4
 },
 "nbformat": 4,
 "nbformat_minor": 2
}
