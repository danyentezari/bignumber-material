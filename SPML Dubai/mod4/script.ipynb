{
 "cells": [
  {
   "attachments": {},
   "cell_type": "markdown",
   "metadata": {},
   "source": [
    "# Probability Theory"
   ]
  },
  {
   "attachments": {},
   "cell_type": "markdown",
   "metadata": {},
   "source": [
    "### 1. Set Builder Notation"
   ]
  },
  {
   "attachments": {},
   "cell_type": "markdown",
   "metadata": {},
   "source": [
    "$A = \\{ 1,1,2,3,5,6 \\}$"
   ]
  },
  {
   "attachments": {},
   "cell_type": "markdown",
   "metadata": {},
   "source": [
    "$A_1 = \\{ 5,6 \\}$ <br/><br/>\n",
    "\n",
    "\n",
    "$A_1 \\subseteq A$"
   ]
  },
  {
   "attachments": {},
   "cell_type": "markdown",
   "metadata": {},
   "source": [
    "Pick any $a \\in A$, $a < 7$"
   ]
  },
  {
   "attachments": {},
   "cell_type": "markdown",
   "metadata": {},
   "source": [
    "$B = \\{ b | 1 \\leq b \\leq 10 \\} $"
   ]
  },
  {
   "attachments": {},
   "cell_type": "markdown",
   "metadata": {},
   "source": [
    "$B = \\{ b | 1 \\leq b \\leq 10 \\text{ and } b \\neq 5 \\} $"
   ]
  },
  {
   "cell_type": "markdown",
   "metadata": {},
   "source": [
    "$X_1 = \\{ a,b,c \\}$"
   ]
  },
  {
   "cell_type": "markdown",
   "metadata": {},
   "source": [
    "$X_2 = \\{ c,d,e \\}$"
   ]
  },
  {
   "attachments": {},
   "cell_type": "markdown",
   "metadata": {},
   "source": [
    "$X_1 \\cup X_2 = \\{ a,b,c,d,e \\}$"
   ]
  },
  {
   "cell_type": "markdown",
   "metadata": {},
   "source": [
    "$X_1 \\cap X_2 = \\{ c \\}$"
   ]
  },
  {
   "cell_type": "code",
   "execution_count": 1,
   "metadata": {},
   "outputs": [
    {
     "data": {
      "text/plain": [
       "{'a', 'b', 'c', 'd', 'e'}"
      ]
     },
     "execution_count": 1,
     "metadata": {},
     "output_type": "execute_result"
    }
   ],
   "source": [
    "X_1 = {\"a\",\"b\",\"c\"}\n",
    "X_2 = {\"c\",\"d\",\"e\"}\n",
    "\n",
    "X_1.union(X_2)"
   ]
  },
  {
   "cell_type": "code",
   "execution_count": null,
   "metadata": {},
   "outputs": [],
   "source": [
    "# Exercise \n",
    "S = { \"11\", \"12\",...,\"21\",...,\"66\" }"
   ]
  },
  {
   "cell_type": "code",
   "execution_count": 6,
   "metadata": {},
   "outputs": [
    {
     "name": "stdout",
     "output_type": "stream",
     "text": [
      "{2}\n"
     ]
    }
   ],
   "source": [
    "S = set({})\n",
    "\n",
    "S.add(2)"
   ]
  },
  {
   "cell_type": "code",
   "execution_count": 24,
   "metadata": {},
   "outputs": [
    {
     "name": "stdout",
     "output_type": "stream",
     "text": [
      "{'53', '51', '61', '35', '24', '34', '36', '56', '23', '65', '62', '43', '13', '46', '26', '64', '14', '12', '44', '33', '52', '63', '11', '31', '66', '22', '42', '32', '45', '25', '15', '55', '21', '41', '16', '54'}\n"
     ]
    }
   ],
   "source": [
    "# Outline of Exercise 6\n",
    "\n",
    "# Part 1\n",
    "S = set({})\n",
    "\n",
    "for i in range(1,7):\n",
    "    for j in range(1,7):\n",
    "       S.add( str(i)+str(j) )\n",
    "\n",
    "print(S)"
   ]
  },
  {
   "cell_type": "code",
   "execution_count": 25,
   "metadata": {},
   "outputs": [
    {
     "name": "stdout",
     "output_type": "stream",
     "text": [
      "{'33', '51', '15', '24', '42'}\n"
     ]
    }
   ],
   "source": [
    "# Part 2\n",
    "E = set({})\n",
    "for s in S:\n",
    "    someString = s\n",
    "    the_sum_digits = int(someString[0]) + int(someString[1])\n",
    "    if the_sum_digits == 6:\n",
    "        E.add(s)\n",
    "\n",
    "print(E)"
   ]
  },
  {
   "cell_type": "code",
   "execution_count": 27,
   "metadata": {},
   "outputs": [
    {
     "data": {
      "text/plain": [
       "0.1388888888888889"
      ]
     },
     "execution_count": 27,
     "metadata": {},
     "output_type": "execute_result"
    }
   ],
   "source": [
    "# Part 3\n",
    "probability_of_sixes = len(E)/len(S)\n",
    "probability_of_sixes"
   ]
  },
  {
   "attachments": {},
   "cell_type": "markdown",
   "metadata": {},
   "source": [
    "### Exercise 7"
   ]
  },
  {
   "cell_type": "code",
   "execution_count": 7,
   "metadata": {},
   "outputs": [
    {
     "data": {
      "text/plain": [
       "3"
      ]
     },
     "execution_count": 7,
     "metadata": {},
     "output_type": "execute_result"
    }
   ],
   "source": [
    "products = [\"Alicafe\", \"Nescafe\", \"Nespresso\", \"Starbucks\"]\n",
    "\n",
    "\n",
    "def random_variable(outcome):\n",
    "    return products.index(outcome)\n",
    "\n",
    "\n",
    "\n",
    "def probability_function(rv):\n",
    "    \"\"\"\n",
    "    chosen outcomes/total number of outcomes\n",
    "    \"\"\"\n",
    "\n",
    "    probability = len([rv])/len(products)\n",
    "    return probability\n",
    "\n",
    "\n",
    "probability_function(random_variable(\"Alicafe\")) + \\\n",
    "probability_function(random_variable(\"Nespresso\"))"
   ]
  },
  {
   "cell_type": "code",
   "execution_count": null,
   "metadata": {},
   "outputs": [],
   "source": []
  }
 ],
 "metadata": {
  "kernelspec": {
   "display_name": "Python 3",
   "language": "python",
   "name": "python3"
  },
  "language_info": {
   "codemirror_mode": {
    "name": "ipython",
    "version": 3
   },
   "file_extension": ".py",
   "mimetype": "text/x-python",
   "name": "python",
   "nbconvert_exporter": "python",
   "pygments_lexer": "ipython3",
   "version": "3.9.4"
  },
  "orig_nbformat": 4
 },
 "nbformat": 4,
 "nbformat_minor": 2
}
