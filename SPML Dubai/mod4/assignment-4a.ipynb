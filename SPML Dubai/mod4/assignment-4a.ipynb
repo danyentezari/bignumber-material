{
 "cells": [
  {
   "cell_type": "markdown",
   "metadata": {},
   "source": [
    "# Assignment 4"
   ]
  },
  {
   "attachments": {},
   "cell_type": "markdown",
   "metadata": {},
   "source": [
    "**Question (1)**\n",
    "\n",
    "Suppose we data about some insurance company and the number of times customers have claimed insurance.<br/><br/>\n",
    "\n",
    "| Client ID | A1 | A2 | A3 | A3 | A4 | A5\n",
    "|-|-|-|-|-|-|-|\n",
    "| Claims | 1 | 1 | 2 | 0 | 4 | 0 |\n",
    "\n",
    "<br/>\n",
    "\n",
    "Where $X$ is the number of times insurance was claimed, find the following:\n",
    "\n",
    "1) $P(X=2)$\n",
    "2) $P(X \\leq 3)$\n",
    "3) $P(X \\geq 4)$"
   ]
  },
  {
   "attachments": {},
   "cell_type": "markdown",
   "metadata": {},
   "source": [
    "1.\n",
    "2.\n",
    "3."
   ]
  },
  {
   "attachments": {},
   "cell_type": "markdown",
   "metadata": {},
   "source": [
    "**Question (2)**\n",
    "\n",
    "Suppose the local transportation authority wants to determine the probabilities of parking offences.\n",
    "\n",
    "Let $x \\in X$ be the number of times a parking fine was issued in a certain parking space in Dubai, and $p(x)$ be the probability of $x$.\n",
    "\n",
    "| x | 0 | 1 | 2 | 3 | 4 | 5 |\n",
    "|-|-|-|-|-|-|-|\n",
    "| p(x) | 0.63 | 0.2865 | 0.04 | 0.03 | 0.0075 | 0.006 |\n",
    "\n",
    "<br/><br/>\n",
    "\n",
    "Find the following:\n",
    "\n",
    "1. $P(X <= 3)$\n",
    "2. $P(X>0)$\n"
   ]
  },
  {
   "attachments": {},
   "cell_type": "markdown",
   "metadata": {},
   "source": [
    "1.\n",
    "2."
   ]
  }
 ],
 "metadata": {
  "kernelspec": {
   "display_name": "Python 3",
   "language": "python",
   "name": "python3"
  },
  "language_info": {
   "codemirror_mode": {
    "name": "ipython",
    "version": 3
   },
   "file_extension": ".py",
   "mimetype": "text/x-python",
   "name": "python",
   "nbconvert_exporter": "python",
   "pygments_lexer": "ipython3",
   "version": "3.9.4"
  },
  "orig_nbformat": 4
 },
 "nbformat": 4,
 "nbformat_minor": 2
}
