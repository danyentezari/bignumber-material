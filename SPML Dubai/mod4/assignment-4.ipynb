{
 "cells": [
  {
   "cell_type": "markdown",
   "metadata": {},
   "source": [
    "# Assignment 4"
   ]
  },
  {
   "attachments": {},
   "cell_type": "markdown",
   "metadata": {},
   "source": [
    "**Question (1)**\n",
    "\n",
    "Suppose we data about some insurance company and the number of times customers have claimed insurance.<br/><br/>\n",
    "\n",
    "| Client ID | A1 | A2 | A3 | A3 | A4 | A5\n",
    "|-|-|-|-|-|-|-|\n",
    "| Claims | 1 | 1 | 2 | 0 | 4 | 0 |\n",
    "\n",
    "<br/>\n",
    "\n",
    "Where $X$ is the number of times insurance was claimed, find the following:\n",
    "\n",
    "1) $P(X=2)$\n",
    "2) $P(X \\leq 3)$\n",
    "3) $P(X \\geq 4)$"
   ]
  },
  {
   "attachments": {},
   "cell_type": "markdown",
   "metadata": {},
   "source": [
    "1.\n",
    "2.\n",
    "3."
   ]
  },
  {
   "attachments": {},
   "cell_type": "markdown",
   "metadata": {},
   "source": [
    "**Question (2)**\n",
    "\n",
    "Suppose the local transportation authority wants to determine the probabilities of parking offences.\n",
    "\n",
    "Let $x \\in X$ be the number of times a parking fine was issued in a certain parking space in Dubai, and $p(x)$ be the probability of $x$.\n",
    "\n",
    "| x | 0 | 1 | 2 | 3 | 4 | 5 |\n",
    "|-|-|-|-|-|-|-|\n",
    "| p(x) | 0.63 | 0.2865 | 0.04 | 0.03 | 0.0075 | 0.006 |\n",
    "\n",
    "<br/><br/>\n",
    "\n",
    "Find the following:\n",
    "\n",
    "1. $P(X <= 3)$\n",
    "2. $P(X>0)$\n",
    "3. $P()$\n"
   ]
  },
  {
   "attachments": {},
   "cell_type": "markdown",
   "metadata": {},
   "source": [
    "1.\n",
    "2."
   ]
  },
  {
   "attachments": {},
   "cell_type": "markdown",
   "metadata": {},
   "source": [
    "**Question 3**\n",
    "\n",
    "Suppose we an electronics company that produces power banks wants to determine the probabilites of selling banks with various capacities, based on current sales data. The table of data is given below.\n",
    "\n",
    "| Type | 1000mAh | 2000mAh | 5000mAh | 10000mAh |\n",
    "|-|-|-|-|-|\n",
    "| No. Sold | 2044 | 2700 | 1231 | 210 |\n",
    "\n",
    "<br/><br/>\n",
    "\n",
    "Where $X = \\begin{cases} 1 \\quad \\text{1000mAh} \\\\ 2 \\quad \\text{2000mAh} \\\\ 3 \\quad \\text{5000mAh} \\\\ 4 \\quad \\text{1000mAh} \\end{cases}$\n",
    "\n",
    "Tasks:\n",
    "1. Find the relative frequeny of each model type\n",
    "2. Assuming the relative frequencies represent the probabilities, find $P(2 \\leq X \\leq 3)$\n",
    " "
   ]
  },
  {
   "attachments": {},
   "cell_type": "markdown",
   "metadata": {},
   "source": [
    "1.\n",
    "2."
   ]
  }
 ],
 "metadata": {
  "kernelspec": {
   "display_name": "Python 3",
   "language": "python",
   "name": "python3"
  },
  "language_info": {
   "codemirror_mode": {
    "name": "ipython",
    "version": 3
   },
   "file_extension": ".py",
   "mimetype": "text/x-python",
   "name": "python",
   "nbconvert_exporter": "python",
   "pygments_lexer": "ipython3",
   "version": "3.9.4"
  },
  "orig_nbformat": 4
 },
 "nbformat": 4,
 "nbformat_minor": 2
}
