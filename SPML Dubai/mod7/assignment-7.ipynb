{
 "cells": [
  {
   "attachments": {},
   "cell_type": "markdown",
   "metadata": {},
   "source": [
    "# Assignment 7"
   ]
  },
  {
   "attachments": {},
   "cell_type": "markdown",
   "metadata": {},
   "source": [
    "**Question (1)**\n",
    "\n",
    "Given \n",
    "- $\\mathbf{X} = [ X_1, X_2, X_3 ]$\n",
    "- $X_1 = [2, 4, 3, 5]$\n",
    "- $X_2 = [9, 10, 7, 4]$\n",
    "- $X_3 = [2, 4, 1, 1]$\n",
    "- $Y = [ 60, 57, 55, 50]$\n",
    "- $ \\mathbf{\\epsilon} = [5,4,1,2]$\n",
    "\n",
    "\n",
    "\n",
    "1. Express each $Y_i$ as a function of $ \\beta_0 + \\beta_i \\times X_i$ \n",
    "2. Express this system of equations in the matrix form $\\mathbf{Y} = \\mathbf{X} \\times \\mathbf{\\beta} + \\mathbf{\\epsilon}$\n",
    "\n",
    "Note:\n",
    "- $\\mathbf{\\beta}$ is a matrix with scalar elements $\\beta_0$, $\\beta_1$,...,$\\beta_n$\n",
    "- Here we assume $\\beta_0$, $\\beta_1$,...,$\\beta_n$ are unknown"
   ]
  },
  {
   "cell_type": "code",
   "execution_count": null,
   "metadata": {},
   "outputs": [],
   "source": []
  },
  {
   "attachments": {},
   "cell_type": "markdown",
   "metadata": {},
   "source": [
    "**Question (2)**\n",
    "\n",
    "1. Implement the MixMax function in Python, where\n",
    "- $x_{\\text{min}} = 0$\n",
    "- $x_{\\text{max}} = 255$ \n",
    "- $\\text{MinMax}(x) = \\dfrac{x - x_{\\text{min}}} {x_{\\text{max}} - x_{\\text{min}}}$\n",
    "\n",
    "2. Use your MinMax implementation to normalize `data = [23,0,12,44,49]`"
   ]
  },
  {
   "cell_type": "code",
   "execution_count": null,
   "metadata": {},
   "outputs": [],
   "source": []
  },
  {
   "attachments": {},
   "cell_type": "markdown",
   "metadata": {},
   "source": [
    "**Question (3)**\n",
    "\n",
    "Implement the PDF of the normal distribution as a function.\n",
    "\n",
    "- $f(x; \\mu, \\sigma) = \\dfrac{1}{\\sigma \\sqrt{2 \\pi}} \\exp \\Big[ - \\dfrac{1}{2 \\sigma^2} (x-\\mu)^2 \\Big ] $\n",
    "\n",
    "Note:\n",
    "- The function takes arguments `x`, `mu`, `sigma`.\n",
    "- All three arguments are `Float`"
   ]
  },
  {
   "cell_type": "code",
   "execution_count": null,
   "metadata": {},
   "outputs": [],
   "source": []
  },
  {
   "attachments": {},
   "cell_type": "markdown",
   "metadata": {},
   "source": [
    "**Question (4)**\n",
    "\n",
    "Given \n",
    "\n",
    "- $x \\in X=10$\n",
    "- $\\mu=7$\n",
    "- $\\sigma=2$\n",
    "- $X \\sim N(\\mu, \\sigma)$\n",
    "\n",
    "Find the density of $x$"
   ]
  },
  {
   "cell_type": "code",
   "execution_count": null,
   "metadata": {},
   "outputs": [],
   "source": []
  },
  {
   "attachments": {},
   "cell_type": "markdown",
   "metadata": {},
   "source": [
    "**Question (5)**\n",
    "\n",
    "Given\n",
    "\n",
    "- $x = 10$ <br/>\n",
    "- $\\mu = 7$ <br/>\n",
    "- $ \\sigma = 2 $ <br/>\n",
    "\n",
    "For $x$ using the CDF of the normal distribution,\n",
    "1. Find the left-tailed p-value\n",
    "2. Find the right-tailed p-value\n",
    "\n",
    "\n",
    "where\n",
    "- $CDF_{normal} = \\displaystyle \\int_{-\\infty}^{x} f(x )\\: dx$\n",
    "- $f(x; \\mu, \\sigma) = \\dfrac{1}{\\sigma \\sqrt{2 \\pi}} \\exp \\Big[ - \\dfrac{1}{2 \\sigma^2} (x-\\mu)^2 \\Big ] $"
   ]
  },
  {
   "cell_type": "code",
   "execution_count": null,
   "metadata": {
    "vscode": {
     "languageId": "plaintext"
    }
   },
   "outputs": [],
   "source": []
  }
 ],
 "metadata": {
  "language_info": {
   "name": "python"
  },
  "orig_nbformat": 4
 },
 "nbformat": 4,
 "nbformat_minor": 2
}
