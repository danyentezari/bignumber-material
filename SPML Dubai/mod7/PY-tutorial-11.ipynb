{
 "cells": [
  {
   "cell_type": "code",
   "execution_count": 13,
   "metadata": {},
   "outputs": [],
   "source": [
    "import matplotlib.pyplot as plt\n",
    "import numpy as np"
   ]
  },
  {
   "cell_type": "markdown",
   "metadata": {},
   "source": [
    "### Vectors in 2D"
   ]
  },
  {
   "cell_type": "markdown",
   "metadata": {},
   "source": [
    "$p_1 = (x_1, y_1)$ \n",
    "\n",
    "$p_2 = (x_2, y_2)$\n",
    "\n",
    "\n",
    "$\\vec{v}_1 = \\begin{bmatrix} x_1 & y_1 \\\\ x_2 & y_2 \\end{bmatrix}$"
   ]
  },
  {
   "cell_type": "code",
   "execution_count": 14,
   "metadata": {},
   "outputs": [
    {
     "data": {
      "image/png": "[encoded data removed]",
      "text/plain": [
       "<Figure size 432x288 with 1 Axes>"
      ]
     },
     "metadata": {
      "needs_background": "light"
     },
     "output_type": "display_data"
    }
   ],
   "source": [
    "fig = plt.figure()\n",
    "ax = plt.axes()\n",
    "\n",
    "ax.set_xlim([-15,15])\n",
    "ax.set_ylim([0,10])\n",
    "\n",
    "\n",
    "\n",
    "\n",
    "# Create a linear space for a vector\n",
    "def vec(points, xdisplacement=0, ydisplacement=0):\n",
    "    x = np.linspace(xdisplacement, points[0] + xdisplacement, 2)\n",
    "    y = np.linspace(ydisplacement, points[1] + ydisplacement, 2)\n",
    "    return np.array((x, y))\n",
    "\n",
    "# Draws a vector on a subplot\n",
    "def draw(v,  obj, xdisplacement=0, ydisplacement=0, c=False):\n",
    "    obj.plot(v[0] + xdisplacement, v[1] + ydisplacement, c)\n",
    "\n",
    "\n",
    "# Function to extract points from vector\n",
    "def gp(v):\n",
    "    x = v[0][len(v[0])-1]\n",
    "    y = v[1][len(v[1])-1]\n",
    "    return np.array((x,y))\n",
    "\n",
    "\n",
    "\n",
    "\n",
    "v_1 = vec((7,5))\n",
    "v_2 = vec((-7,5))\n",
    "v_3 = vec(gp(v_1) + gp(v_2))\n",
    "\n",
    "\n",
    "draw(v_1, obj=ax, c='blue')\n",
    "draw(v_2, obj=ax, c='red')\n",
    "draw(v_3, obj=ax)"
   ]
  },
  {
   "cell_type": "markdown",
   "metadata": {},
   "source": [
    "### Linear Transformations"
   ]
  },
  {
   "cell_type": "code",
   "execution_count": 24,
   "metadata": {},
   "outputs": [
    {
     "data": {
      "image/png": "[encoded data removed]",
      "text/plain": [
       "<Figure size 432x288 with 1 Axes>"
      ]
     },
     "metadata": {
      "needs_background": "light"
     },
     "output_type": "display_data"
    }
   ],
   "source": [
    "fig = plt.figure()\n",
    "ax = plt.axes()\n",
    "\n",
    "ax.set_xlim([-10,10])\n",
    "ax.set_ylim([-10,10])\n",
    "\n",
    "\n",
    "v1 = vec((0,8))\n",
    "draw(v1, obj=ax, c='black')\n",
    "\n",
    "shear = np.array([\n",
    "    [1, -0.25],\n",
    "    [0, 1]\n",
    "])\n",
    "\n",
    "\n",
    "v1_transform = np.matmul(shear, v1)\n",
    "draw(v1_transform, obj=ax, c='red')"
   ]
  },
  {
   "cell_type": "code",
   "execution_count": 16,
   "metadata": {},
   "outputs": [
    {
     "data": {
      "text/plain": [
       "array([[0., 0.],\n",
       "       [0., 8.]])"
      ]
     },
     "execution_count": 16,
     "metadata": {},
     "output_type": "execute_result"
    }
   ],
   "source": [
    "v1"
   ]
  },
  {
   "cell_type": "code",
   "execution_count": 38,
   "metadata": {},
   "outputs": [
    {
     "data": {
      "image/png": "[encoded data removed]",
      "text/plain": [
       "<Figure size 432x288 with 1 Axes>"
      ]
     },
     "metadata": {
      "needs_background": "light"
     },
     "output_type": "display_data"
    }
   ],
   "source": [
    "fig = plt.figure()\n",
    "ax = plt.axes()\n",
    "\n",
    "ax.set_xlim([-10,10])\n",
    "ax.set_ylim([-10,10])\n",
    "\n",
    "\n",
    "M = []\n",
    "for i in range(0, 100):\n",
    "    row = vec((0,8), xdisplacement=i/50)\n",
    "    M.append(row)\n",
    "M = np.array(M)\n",
    "\n",
    "\n",
    "shear = np.array([\n",
    "    [2.5, 0],\n",
    "    [0, 1]\n",
    "])\n",
    "\n",
    "M_transform = np.matmul(shear, M)\n",
    "\n",
    "\n",
    "# Draw a plane    \n",
    "for v in M_transform:    \n",
    "    draw(v, obj=ax, c='black')"
   ]
  },
  {
   "cell_type": "code",
   "execution_count": null,
   "metadata": {},
   "outputs": [],
   "source": []
  }
 ],
 "metadata": {
  "kernelspec": {
   "display_name": "Python 3.9.4 64-bit",
   "language": "python",
   "name": "python3"
  },
  "language_info": {
   "codemirror_mode": {
    "name": "ipython",
    "version": 3
   },
   "file_extension": ".py",
   "mimetype": "text/x-python",
   "name": "python",
   "nbconvert_exporter": "python",
   "pygments_lexer": "ipython3",
   "version": "3.9.4"
  },
  "orig_nbformat": 4,
  "vscode": {
   "interpreter": {
    "hash": "949777d72b0d2535278d3dc13498b2535136f6dfe0678499012e853ee9abcab1"
   }
  }
 },
 "nbformat": 4,
 "nbformat_minor": 2
}
