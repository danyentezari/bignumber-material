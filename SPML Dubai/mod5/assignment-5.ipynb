{
 "cells": [
  {
   "attachments": {},
   "cell_type": "markdown",
   "metadata": {},
   "source": [
    "# Assignment 5"
   ]
  },
  {
   "attachments": {},
   "cell_type": "markdown",
   "metadata": {},
   "source": [
    "**Instructions**\n",
    "\n",
    "This assignment is the continuation of Assignment 3, where linear regression was used to model the data. In this assignment, we will use another supervised model, the decision tree, to model `total_conversion`. We will then compare the results and see which model – OLS vs Decision Tree – performs better.\n",
    "\n",
    "1. Download the data set again and read into a Pandas dataframe.\n",
    "2. Using sklearn, instantiate a simple regression model (`LinearRegression` class). This will be the baseline model.\n",
    "3. Use `cross_val_score` to find the R-squared, MSE, and MAE for the regression mode. (See the code below for reference).\n",
    "4. Using sklearn, train a decision tree regressor (`DecisionTreeRegressor` class)\n",
    "5. Using `GridSearchCV`, find the best hyperparameters for the decision tree regressor.\n",
    "6. Use the `cross_val_score`, observe how the best model performs on the dataset.\n",
    "7. With respect to R-squared, MSE, MAE, compare the decision tree regressor to simple the linear regression model.\n",
    "\n",
    "Which model has a higher R^2 and a lower MAE? Linear Regression or Decision Tree Regressor?\n"
   ]
  },
  {
   "cell_type": "code",
   "execution_count": null,
   "metadata": {},
   "outputs": [],
   "source": [
    "# Install libraties (only if not installed before)\n",
    "# !python3 -m pip install numpy pandas matplotlib scipy sklearn"
   ]
  },
  {
   "cell_type": "code",
   "execution_count": null,
   "metadata": {},
   "outputs": [],
   "source": [
    "# Download the CSV data\n",
    "!curl -o conversion-data.csv -H \"Accept: application/csv\" -X GET https://raw.githubusercontent.com/danyentezari/bignumber-material/master/SPML%20Dubai/mod3/conversion-data.csv"
   ]
  },
  {
   "cell_type": "code",
   "execution_count": null,
   "metadata": {},
   "outputs": [],
   "source": [
    "\n",
    "\"\"\"\n",
    "Example of finding best hyperparameters and \n",
    "cross-validating a decision tree regressor.\n",
    "\n",
    "This code uses toy data. Use this code as reference.\n",
    "Adapt it for your dataset and for comparing the decision tree \n",
    "to the linear regression model.\n",
    "\"\"\"\n",
    "\n",
    "from sklearn.datasets import load_boston\n",
    "from sklearn.model_selection import train_test_split\n",
    "from sklearn.model_selection import cross_val_score\n",
    "from sklearn.tree import DecisionTreeRegressor\n",
    "from sklearn.model_selection import GridSearchCV\n",
    "from sklearn.metrics import mean_absolute_error, mean_squared_error, r2_score\n",
    "\n",
    "# Load the Boston housing dataset\n",
    "boston = load_boston()\n",
    "X = boston.data\n",
    "y = boston.target\n",
    "\n",
    "# Create the Decision Tree Regressor\n",
    "model_dtr = DecisionTreeRegressor()\n",
    "\n",
    "# Define the hyperparameter grid for GridSearchCV\n",
    "param_grid = {\n",
    "    'max_depth': [3, 5, 7, None],\n",
    "    'min_samples_split': [2, 5, 10],\n",
    "    'min_samples_leaf': [1, 2, 4],\n",
    "}\n",
    "\n",
    "# Perform a grid search with cross-validation\n",
    "grid_search = GridSearchCV(model_dtr, param_grid, cv=5)\n",
    "grid_search.fit(X, y)\n",
    "\n",
    "# Print the best hyperparameters and score\n",
    "print(\"Best Parameters: \", grid_search.best_params_)\n",
    "print(\"Best Score: \", grid_search.best_score_)\n",
    "\n",
    "# Use cross_val_score on model with best hyperparameters\n",
    "model_dtr_best_hyperparameter = DecisionTreeRegressor(**grid_search.best_params_)\n",
    "scores = cross_val_score(model_dtr_best_hyperparameter, X, y, cv=5, scoring='r2')\n",
    "print(\"CRV R-squared: \", scores, 'Mean Score:', scores.mean())\n",
    "\n",
    "scores = cross_val_score(model_dtr_best_hyperparameter, X, y, cv=5, scoring='neg_mean_squared_error')\n",
    "print(\"CRV MSE: \", scores, 'Mean Score:', scores.mean()*-1)\n",
    "\n",
    "scores = cross_val_score(model_dtr_best_hyperparameter, X, y, cv=5, scoring='neg_mean_absolute_error')\n",
    "print(\"CRV MAE: \", scores, 'Mean Score:', scores.mean()*-1)"
   ]
  },
  {
   "cell_type": "code",
   "execution_count": null,
   "metadata": {},
   "outputs": [],
   "source": []
  }
 ],
 "metadata": {
  "kernelspec": {
   "display_name": "Python 3",
   "language": "python",
   "name": "python3"
  },
  "language_info": {
   "codemirror_mode": {
    "name": "ipython",
    "version": 3
   },
   "file_extension": ".py",
   "mimetype": "text/x-python",
   "name": "python",
   "nbconvert_exporter": "python",
   "pygments_lexer": "ipython3",
   "version": "3.9.4"
  },
  "orig_nbformat": 4
 },
 "nbformat": 4,
 "nbformat_minor": 2
}
