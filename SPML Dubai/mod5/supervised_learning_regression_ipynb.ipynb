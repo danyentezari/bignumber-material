{
  "nbformat": 4,
  "nbformat_minor": 0,
  "metadata": {
    "colab": {
      "provenance": []
    },
    "kernelspec": {
      "name": "python3",
      "display_name": "Python 3"
    },
    "language_info": {
      "name": "python"
    }
  },
  "cells": [
    {
      "cell_type": "markdown",
      "source": [
        "# Supervised Learning Regression "
      ],
      "metadata": {
        "id": "nH05xG-E2ZEx"
      }
    },
    {
      "cell_type": "markdown",
      "source": [
        "### Import Data and Libraries"
      ],
      "metadata": {
        "id": "0hA19u8f-vPg"
      }
    },
    {
      "cell_type": "code",
      "execution_count": 82,
      "metadata": {
        "id": "euXJ1AqW1lNt"
      },
      "outputs": [],
      "source": [
        "# !python -m pip install sklearn matplotlib numpy"
      ]
    },
    {
      "cell_type": "code",
      "source": [
        "# Import the libraries\n",
        "import matplotlib.pyplot as plt\n",
        "import numpy as np\n",
        "from sklearn import datasets, linear_model\n",
        "from sklearn.metrics import mean_squared_error, r2_score"
      ],
      "metadata": {
        "id": "-SLldx6Y2siu"
      },
      "execution_count": 83,
      "outputs": []
    },
    {
      "cell_type": "code",
      "source": [
        "# Download dataset, and assign features (explanatory or independent) and label (response or dependent)\n",
        "X,Y = datasets.load_diabetes(return_X_y=True)"
      ],
      "metadata": {
        "id": "Nax5-4Wd3ObP"
      },
      "execution_count": 84,
      "outputs": []
    },
    {
      "cell_type": "markdown",
      "source": [
        "### Sample for Training"
      ],
      "metadata": {
        "id": "RsunOqDm-yx6"
      }
    },
    {
      "cell_type": "code",
      "source": [
        "# Use only one feature from list of features\n",
        "X = X[:, np.newaxis, 2]"
      ],
      "metadata": {
        "id": "B8tUDA-nPt4D"
      },
      "execution_count": 85,
      "outputs": []
    },
    {
      "cell_type": "code",
      "source": [
        "# Subset of data for training\n",
        "\n",
        "# 80% for training\n",
        "X_train = X[:-20]\n",
        "Y_train = Y[:-20]\n",
        "\n",
        "# 20% for testing\n",
        "X_test = X[-20:]\n",
        "Y_test = Y[-20:]"
      ],
      "metadata": {
        "id": "pRHVs0WH9WEP"
      },
      "execution_count": 86,
      "outputs": []
    },
    {
      "cell_type": "code",
      "source": [
        "# Instantiating an object of LinearRegression class\n",
        "model = linear_model.LinearRegression()"
      ],
      "metadata": {
        "id": "DrstVgsP_Umo"
      },
      "execution_count": 87,
      "outputs": []
    },
    {
      "cell_type": "code",
      "source": [
        "# List comprehension using negative indexing\n",
        "# arr = np.array([1,2,3,4,5,6,7,8,9,10])\n",
        "# arr[:-2]\n",
        "# arr[-2:]"
      ],
      "metadata": {
        "id": "Wid37jJp_muo"
      },
      "execution_count": 88,
      "outputs": []
    },
    {
      "cell_type": "code",
      "source": [
        "# Train the model\n",
        "model.fit(X_train, Y_train)\n",
        "Y_train_pred = model.predict(X_train)"
      ],
      "metadata": {
        "id": "odD9cxJmJR0M"
      },
      "execution_count": 89,
      "outputs": []
    },
    {
      "cell_type": "code",
      "source": [
        "# The learned parameters (beta_1,..., beta_n)\n",
        "model.coef_"
      ],
      "metadata": {
        "colab": {
          "base_uri": "https://localhost:8080/"
        },
        "id": "BrOBOFjAJec6",
        "outputId": "5c7f6b78-4cd0-436b-db15-51017884fb8d"
      },
      "execution_count": 90,
      "outputs": [
        {
          "output_type": "execute_result",
          "data": {
            "text/plain": [
              "array([938.23786125])"
            ]
          },
          "metadata": {},
          "execution_count": 90
        }
      ]
    },
    {
      "cell_type": "code",
      "source": [
        "# Check model metrics after training\n",
        "mse = mean_squared_error(Y_train_pred, Y_train)\n",
        "r2 = r2_score(Y_train_pred, Y_train)"
      ],
      "metadata": {
        "id": "7iNv56kpLikp"
      },
      "execution_count": 91,
      "outputs": []
    },
    {
      "cell_type": "code",
      "source": [
        "# Check overfitting vs underfitting\n",
        "print(\"MSE\", mse)\n",
        "print(\"RMSE\", mse**0.5)\n",
        "print(\"r2\", r2)"
      ],
      "metadata": {
        "colab": {
          "base_uri": "https://localhost:8080/"
        },
        "id": "Mo1Dyh5jM6lK",
        "outputId": "b52e49d2-876b-4bef-d55b-e83574bac4c5"
      },
      "execution_count": 92,
      "outputs": [
        {
          "output_type": "stream",
          "name": "stdout",
          "text": [
            "MSE 3955.019853401394\n",
            "RMSE 62.88894857923285\n",
            "r2 -0.9839055532743957\n"
          ]
        }
      ]
    },
    {
      "cell_type": "code",
      "source": [
        "# Show model test data \n",
        "Y_test_pred = model.predict(X_test)"
      ],
      "metadata": {
        "id": "sTv1qN1zNe6F"
      },
      "execution_count": 93,
      "outputs": []
    },
    {
      "cell_type": "code",
      "source": [
        "# Check model metrics after training\n",
        "mse = mean_squared_error(Y_test_pred, Y_test)\n",
        "r2 = r2_score(Y_test_pred, Y_test)"
      ],
      "metadata": {
        "id": "xIq6u7v3NtCQ"
      },
      "execution_count": 94,
      "outputs": []
    },
    {
      "cell_type": "code",
      "source": [
        "print(\"MSE\", mse)\n",
        "print(\"RMSE\", mse**0.5)\n",
        "print(\"r2\", r2)"
      ],
      "metadata": {
        "colab": {
          "base_uri": "https://localhost:8080/"
        },
        "id": "xQZ4R9hZNyIP",
        "outputId": "6d2aa305-4800-4e96-9380-ec570d686cd4"
      },
      "execution_count": 95,
      "outputs": [
        {
          "output_type": "stream",
          "name": "stdout",
          "text": [
            "MSE 2548.07239872597\n",
            "RMSE 50.478434986892864\n",
            "r2 -0.3708486396886379\n"
          ]
        }
      ]
    },
    {
      "cell_type": "code",
      "source": [
        "plt.scatter(X_test, Y_test, color=\"black\")\n",
        "plt.plot(X_test, Y_test_pred, color=\"red\", linewidth=3)"
      ],
      "metadata": {
        "colab": {
          "base_uri": "https://localhost:8080/",
          "height": 449
        },
        "id": "7fpfYv9NOKZq",
        "outputId": "a9f01873-1b7d-4784-a6d3-bbedeb26695a"
      },
      "execution_count": 97,
      "outputs": [
        {
          "output_type": "execute_result",
          "data": {
            "text/plain": [
              "[<matplotlib.lines.Line2D at 0x7fa22bcac070>]"
            ]
          },
          "metadata": {},
          "execution_count": 97
        },
        {
          "output_type": "display_data",
          "data": {
            "text/plain": [
              "<Figure size 640x480 with 1 Axes>"
            ],
            "image/png": "[encoded data removed]"
          },
          "metadata": {}
        }
      ]
    }
  ]
}