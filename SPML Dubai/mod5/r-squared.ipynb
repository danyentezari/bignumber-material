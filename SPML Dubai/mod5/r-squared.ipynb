{
 "cells": [
  {
   "cell_type": "code",
   "execution_count": 38,
   "metadata": {},
   "outputs": [],
   "source": [
    "import pandas as pd"
   ]
  },
  {
   "cell_type": "code",
   "execution_count": 39,
   "metadata": {},
   "outputs": [],
   "source": [
    "ddict = {\n",
    "    \"y\": [3,5],\n",
    "    \"y_hat\": [2,5]\n",
    "}\n",
    "\n",
    "df = pd.DataFrame(ddict)\n",
    "\n",
    "\n",
    "y = df[\"y\"]\n",
    "y_hat = df[\"y_hat\"]\n",
    "y_mean = df['y'].mean()\n"
   ]
  },
  {
   "cell_type": "code",
   "execution_count": 40,
   "metadata": {},
   "outputs": [
    {
     "name": "stdout",
     "output_type": "stream",
     "text": [
      "1.0\n"
     ]
    }
   ],
   "source": [
    "ess = 0\n",
    "for i,v in enumerate(y):\n",
    "    ess += (v - y_mean)**2\n",
    "   \n",
    "\n",
    "tss = 0\n",
    "for i,v in enumerate(y_hat):\n",
    "    tss += (v - y_mean)**2\n",
    "    \n",
    "    \n",
    "# rss = 0\n",
    "# for i,v in enumerate(y):\n",
    "#     rss += (y[i] - y_hat[i])**2\n",
    "\n",
    "\n",
    "# print(1-(rss/tss))\n",
    "print(ess/tss)"
   ]
  },
  {
   "cell_type": "code",
   "execution_count": 48,
   "metadata": {},
   "outputs": [],
   "source": [
    "ess = ((3-4)**2)+((5-4)**2)\n",
    "tss = ((2-4)**2)+((5-4)**2)\n",
    "rss = ((2-4)**2)+((5-4**2))"
   ]
  },
  {
   "cell_type": "code",
   "execution_count": 49,
   "metadata": {},
   "outputs": [
    {
     "data": {
      "text/plain": [
       "0.4"
      ]
     },
     "execution_count": 49,
     "metadata": {},
     "output_type": "execute_result"
    }
   ],
   "source": [
    "ess/tss"
   ]
  },
  {
   "cell_type": "code",
   "execution_count": 53,
   "metadata": {},
   "outputs": [
    {
     "data": {
      "text/plain": [
       "2.4"
      ]
     },
     "execution_count": 53,
     "metadata": {},
     "output_type": "execute_result"
    }
   ],
   "source": [
    "1-(rss/tss)"
   ]
  },
  {
   "cell_type": "code",
   "execution_count": null,
   "metadata": {},
   "outputs": [],
   "source": []
  }
 ],
 "metadata": {
  "kernelspec": {
   "display_name": "Python 3",
   "language": "python",
   "name": "python3"
  },
  "language_info": {
   "codemirror_mode": {
    "name": "ipython",
    "version": 3
   },
   "file_extension": ".py",
   "mimetype": "text/x-python",
   "name": "python",
   "nbconvert_exporter": "python",
   "pygments_lexer": "ipython3",
   "version": "3.9.4"
  },
  "orig_nbformat": 4
 },
 "nbformat": 4,
 "nbformat_minor": 2
}
