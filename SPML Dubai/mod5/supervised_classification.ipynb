{
  "nbformat": 4,
  "nbformat_minor": 0,
  "metadata": {
    "colab": {
      "provenance": []
    },
    "kernelspec": {
      "name": "python3",
      "display_name": "Python 3"
    },
    "language_info": {
      "name": "python"
    }
  },
  "cells": [
    {
      "cell_type": "code",
      "execution_count": 155,
      "metadata": {
        "id": "0Q6B8a1DM0wl"
      },
      "outputs": [],
      "source": [
        "# Import libraries and data\n",
        "import numpy as np\n",
        "import pandas as pd\n",
        "import matplotlib.pyplot as plt\n",
        "\n",
        "from sklearn.linear_model import LogisticRegression\n",
        "from sklearn import datasets\n",
        "from sklearn.model_selection import train_test_split\n",
        "from sklearn.preprocessing import StandardScaler\n",
        "\n",
        "from scipy.special import expit, logit\n",
        "\n",
        "import random"
      ]
    },
    {
      "cell_type": "code",
      "source": [
        "# Generate random data that is normally distributed\n",
        "\n",
        "# Create a list of random numbers between 1 and 50\n",
        "X = [x for x in range(1,51)]\n",
        "\n",
        "# Convert to NumPy array\n",
        "X = np.array(X)\n",
        "\n",
        "# Increase dimensionality of X by 1 for arithmetic purpose\n",
        "X = X[:, np.newaxis]"
      ],
      "metadata": {
        "id": "A8-gtYnrOocF"
      },
      "execution_count": 156,
      "outputs": []
    },
    {
      "cell_type": "code",
      "source": [
        "# Instantiate a method of the Scaler class.\n",
        "\n",
        "# The StandardScaler will standardize the  normally distributed data\n",
        "scaler = StandardScaler()"
      ],
      "metadata": {
        "id": "-5wExXOkSYks"
      },
      "execution_count": 157,
      "outputs": []
    },
    {
      "cell_type": "code",
      "source": [
        "# Standardize the data (transform) and remember (fit) the constants\n",
        "# to later undo the transformation\n",
        "X = scaler.fit_transform(X)"
      ],
      "metadata": {
        "id": "gGUV6ao4S_9h"
      },
      "execution_count": 158,
      "outputs": []
    },
    {
      "cell_type": "code",
      "source": [
        "# All the x's that are greater than mean will be classed 1 and 0 if less than mean\n",
        "# Note: the parenthesis are used to emphasize order-of-operations\n",
        "Y = (X > X.mean()).astype(int)"
      ],
      "metadata": {
        "id": "OWN5xYzgWT6K"
      },
      "execution_count": 159,
      "outputs": []
    },
    {
      "cell_type": "code",
      "source": [
        "# Convert to DataFrame\n",
        "data_dict = {\n",
        "    'feature': X.ravel(),\n",
        "    'label': Y.ravel() \n",
        "}\n",
        "\n",
        "data_df = pd.DataFrame(data_dict)"
      ],
      "metadata": {
        "id": "dgrmnAsxaVSo"
      },
      "execution_count": 160,
      "outputs": []
    },
    {
      "cell_type": "code",
      "source": [
        "data_df.tail()"
      ],
      "metadata": {
        "colab": {
          "base_uri": "https://localhost:8080/",
          "height": 206
        },
        "id": "o_C64OX9b0l7",
        "outputId": "3136fe86-bb8e-4942-db8d-e365461e3d3d"
      },
      "execution_count": 161,
      "outputs": [
        {
          "output_type": "execute_result",
          "data": {
            "text/plain": [
              "     feature  label\n",
              "45  1.420566      1\n",
              "46  1.489862      1\n",
              "47  1.559158      1\n",
              "48  1.628453      1\n",
              "49  1.697749      1"
            ],
            "text/html": [
              "\n",
              "  <div id=\"df-c2e3da6e-136f-41bd-862a-d66bf670a30e\">\n",
              "    <div class=\"colab-df-container\">\n",
              "      <div>\n",
              "<style scoped>\n",
              "    .dataframe tbody tr th:only-of-type {\n",
              "        vertical-align: middle;\n",
              "    }\n",
              "\n",
              "    .dataframe tbody tr th {\n",
              "        vertical-align: top;\n",
              "    }\n",
              "\n",
              "    .dataframe thead th {\n",
              "        text-align: right;\n",
              "    }\n",
              "</style>\n",
              "<table border=\"1\" class=\"dataframe\">\n",
              "  <thead>\n",
              "    <tr style=\"text-align: right;\">\n",
              "      <th></th>\n",
              "      <th>feature</th>\n",
              "      <th>label</th>\n",
              "    </tr>\n",
              "  </thead>\n",
              "  <tbody>\n",
              "    <tr>\n",
              "      <th>45</th>\n",
              "      <td>1.420566</td>\n",
              "      <td>1</td>\n",
              "    </tr>\n",
              "    <tr>\n",
              "      <th>46</th>\n",
              "      <td>1.489862</td>\n",
              "      <td>1</td>\n",
              "    </tr>\n",
              "    <tr>\n",
              "      <th>47</th>\n",
              "      <td>1.559158</td>\n",
              "      <td>1</td>\n",
              "    </tr>\n",
              "    <tr>\n",
              "      <th>48</th>\n",
              "      <td>1.628453</td>\n",
              "      <td>1</td>\n",
              "    </tr>\n",
              "    <tr>\n",
              "      <th>49</th>\n",
              "      <td>1.697749</td>\n",
              "      <td>1</td>\n",
              "    </tr>\n",
              "  </tbody>\n",
              "</table>\n",
              "</div>\n",
              "      <button class=\"colab-df-convert\" onclick=\"convertToInteractive('df-c2e3da6e-136f-41bd-862a-d66bf670a30e')\"\n",
              "              title=\"Convert this dataframe to an interactive table.\"\n",
              "              style=\"display:none;\">\n",
              "        \n",
              "  <svg xmlns=\"http://www.w3.org/2000/svg\" height=\"24px\"viewBox=\"0 0 24 24\"\n",
              "       width=\"24px\">\n",
              "    <path d=\"M0 0h24v24H0V0z\" fill=\"none\"/>\n",
              "    <path d=\"M18.56 5.44l.94 2.06.94-2.06 2.06-.94-2.06-.94-.94-2.06-.94 2.06-2.06.94zm-11 1L8.5 8.5l.94-2.06 2.06-.94-2.06-.94L8.5 2.5l-.94 2.06-2.06.94zm10 10l.94 2.06.94-2.06 2.06-.94-2.06-.94-.94-2.06-.94 2.06-2.06.94z\"/><path d=\"M17.41 7.96l-1.37-1.37c-.4-.4-.92-.59-1.43-.59-.52 0-1.04.2-1.43.59L10.3 9.45l-7.72 7.72c-.78.78-.78 2.05 0 2.83L4 21.41c.39.39.9.59 1.41.59.51 0 1.02-.2 1.41-.59l7.78-7.78 2.81-2.81c.8-.78.8-2.07 0-2.86zM5.41 20L4 18.59l7.72-7.72 1.47 1.35L5.41 20z\"/>\n",
              "  </svg>\n",
              "      </button>\n",
              "      \n",
              "  <style>\n",
              "    .colab-df-container {\n",
              "      display:flex;\n",
              "      flex-wrap:wrap;\n",
              "      gap: 12px;\n",
              "    }\n",
              "\n",
              "    .colab-df-convert {\n",
              "      background-color: #E8F0FE;\n",
              "      border: none;\n",
              "      border-radius: 50%;\n",
              "      cursor: pointer;\n",
              "      display: none;\n",
              "      fill: #1967D2;\n",
              "      height: 32px;\n",
              "      padding: 0 0 0 0;\n",
              "      width: 32px;\n",
              "    }\n",
              "\n",
              "    .colab-df-convert:hover {\n",
              "      background-color: #E2EBFA;\n",
              "      box-shadow: 0px 1px 2px rgba(60, 64, 67, 0.3), 0px 1px 3px 1px rgba(60, 64, 67, 0.15);\n",
              "      fill: #174EA6;\n",
              "    }\n",
              "\n",
              "    [theme=dark] .colab-df-convert {\n",
              "      background-color: #3B4455;\n",
              "      fill: #D2E3FC;\n",
              "    }\n",
              "\n",
              "    [theme=dark] .colab-df-convert:hover {\n",
              "      background-color: #434B5C;\n",
              "      box-shadow: 0px 1px 3px 1px rgba(0, 0, 0, 0.15);\n",
              "      filter: drop-shadow(0px 1px 2px rgba(0, 0, 0, 0.3));\n",
              "      fill: #FFFFFF;\n",
              "    }\n",
              "  </style>\n",
              "\n",
              "      <script>\n",
              "        const buttonEl =\n",
              "          document.querySelector('#df-c2e3da6e-136f-41bd-862a-d66bf670a30e button.colab-df-convert');\n",
              "        buttonEl.style.display =\n",
              "          google.colab.kernel.accessAllowed ? 'block' : 'none';\n",
              "\n",
              "        async function convertToInteractive(key) {\n",
              "          const element = document.querySelector('#df-c2e3da6e-136f-41bd-862a-d66bf670a30e');\n",
              "          const dataTable =\n",
              "            await google.colab.kernel.invokeFunction('convertToInteractive',\n",
              "                                                     [key], {});\n",
              "          if (!dataTable) return;\n",
              "\n",
              "          const docLinkHtml = 'Like what you see? Visit the ' +\n",
              "            '<a target=\"_blank\" href=https://colab.research.google.com/notebooks/data_table.ipynb>data table notebook</a>'\n",
              "            + ' to learn more about interactive tables.';\n",
              "          element.innerHTML = '';\n",
              "          dataTable['output_type'] = 'display_data';\n",
              "          await google.colab.output.renderOutput(dataTable, element);\n",
              "          const docLink = document.createElement('div');\n",
              "          docLink.innerHTML = docLinkHtml;\n",
              "          element.appendChild(docLink);\n",
              "        }\n",
              "      </script>\n",
              "    </div>\n",
              "  </div>\n",
              "  "
            ]
          },
          "metadata": {},
          "execution_count": 161
        }
      ]
    },
    {
      "cell_type": "code",
      "source": [
        "# Split the data into train and test\n",
        "X_train, X_test, Y_train, Y_test = train_test_split(\n",
        "    X, \n",
        "    Y,                \n",
        "    test_size=0.4,    # 40% of data for test, 60% for train\n",
        "    shuffle=True,      # Randomize the data\n",
        "    random_state=155\n",
        ")"
      ],
      "metadata": {
        "id": "ilnuBD9tcQwp"
      },
      "execution_count": 162,
      "outputs": []
    },
    {
      "cell_type": "code",
      "source": [
        "X.max(), X.min()"
      ],
      "metadata": {
        "colab": {
          "base_uri": "https://localhost:8080/"
        },
        "id": "yENIDp5VXenH",
        "outputId": "174931a7-d5e7-44eb-fe39-e4b70f7b9d2b"
      },
      "execution_count": 163,
      "outputs": [
        {
          "output_type": "execute_result",
          "data": {
            "text/plain": [
              "(1.697749375254331, -1.697749375254331)"
            ]
          },
          "metadata": {},
          "execution_count": 163
        }
      ]
    },
    {
      "cell_type": "code",
      "source": [
        "# Ravel the data to sort\n",
        "X_test = np.sort(X_test.ravel())\n",
        "\n",
        "# Again increase the dimension for plot\n",
        "X_test = X_test[:, np.newaxis]"
      ],
      "metadata": {
        "id": "dfF5YQs7Ypkz"
      },
      "execution_count": 164,
      "outputs": []
    },
    {
      "cell_type": "code",
      "source": [
        "# Model the data\n",
        "model = LogisticRegression()\n",
        "model.fit(X_train,Y_train)\n",
        "\n",
        "\n",
        "# Plot the result\n",
        "plt.figure(1, figsize=(4,3))\n",
        "\n",
        "# Setting the plot for classification plot\n",
        "plt.clf()\n",
        "\n",
        "\n",
        "# Plot the data\n",
        "plt.scatter(X_train, Y_train, color=\"black\", zorder=5)\n",
        "\n",
        "\n",
        "# Plot the model with test data set\n",
        "Y_hat = model.predict(X_test)\n",
        "plt.plot(X_test, Y_hat, color='red', linewidth=3)\n",
        "\n",
        "# Label the axes\n",
        "plt.xlabel('X values')\n",
        "plt.ylabel('Y values')\n",
        "plt.xlim(X.min(), X.max())\n",
        "plt.show()\n"
      ],
      "metadata": {
        "id": "4O6yvDIZc4-f",
        "colab": {
          "base_uri": "https://localhost:8080/",
          "height": 368
        },
        "outputId": "9cec1f8c-0cd3-441d-e650-a2b5852c8444"
      },
      "execution_count": 165,
      "outputs": [
        {
          "output_type": "stream",
          "name": "stderr",
          "text": [
            "/usr/local/lib/python3.10/dist-packages/sklearn/utils/validation.py:1143: DataConversionWarning: A column-vector y was passed when a 1d array was expected. Please change the shape of y to (n_samples, ), for example using ravel().\n",
            "  y = column_or_1d(y, warn=True)\n"
          ]
        },
        {
          "output_type": "display_data",
          "data": {
            "text/plain": [
              "<Figure size 400x300 with 1 Axes>"
            ],
            "image/png": "[encoded data removed]"
          },
          "metadata": {}
        }
      ]
    },
    {
      "cell_type": "code",
      "source": [
        "# Metrics for Logistic Regression Model\n",
        "from sklearn.metrics import precision_score, recall_score, accuracy_score\n",
        "\n",
        "precision = precision_score(Y_test, Y_hat)\n",
        "recall = recall_score(Y_test, Y_hat)\n",
        "accuracy = accuracy_score(Y_test, Y_hat)\n",
        "\n",
        "print(\"Precision\", precision)\n",
        "print(\"Recall\", recall)\n",
        "print(\"Accuracy\", accuracy)"
      ],
      "metadata": {
        "colab": {
          "base_uri": "https://localhost:8080/"
        },
        "id": "1ovXoHUbtCEu",
        "outputId": "7037b9c9-aff7-4c32-fc15-08db79df73b2"
      },
      "execution_count": 166,
      "outputs": [
        {
          "output_type": "stream",
          "name": "stdout",
          "text": [
            "Precision 0.4444444444444444\n",
            "Recall 0.4444444444444444\n",
            "Accuracy 0.5\n"
          ]
        }
      ]
    }
  ]
}