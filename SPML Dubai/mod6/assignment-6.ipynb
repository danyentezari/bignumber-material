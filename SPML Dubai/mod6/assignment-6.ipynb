{
 "cells": [
  {
   "attachments": {},
   "cell_type": "markdown",
   "metadata": {},
   "source": [
    "# Assignment 6"
   ]
  },
  {
   "attachments": {},
   "cell_type": "markdown",
   "metadata": {},
   "source": [
    "**Question (1)**\n",
    "\n",
    "\n",
    "<i>Note: For this exercise, refer to 'bayesian-classifier.ipynb'.</i>\n",
    "\n",
    "In the Iris dataset, suppose we observe data at this point.\n",
    "\n",
    "$\\mathbf{x} = (4.5, 2.5)$.\n",
    "\n",
    "1. Find the posterior probability, $P(c_1 | \\mathbf{x})$\n",
    "2. Find the posterior probability, $P(c_2 | \\mathbf{x})$\n",
    "3. Determine $\\hat{y}$, the predicted class for $\\mathbf{x}$\n",
    "\n",
    "Implement your solution using Python."
   ]
  },
  {
   "cell_type": "code",
   "execution_count": null,
   "metadata": {},
   "outputs": [],
   "source": []
  },
  {
   "attachments": {},
   "cell_type": "markdown",
   "metadata": {},
   "source": [
    "**Question (2)**\n",
    "\n",
    "Suppose we are given the following for multivariate normally distributed data, $D$, with features $\\mathbf{X} = \\{ X_1, X_2 \\}$. <br/>\n",
    "The label, $Y$ is categorical with unique classes $c_1, c_2, c_3$ \n",
    "- $|D| = 200$\n",
    "\n",
    "- $P(c_1) = 40/200 = 0.2$ is the prior probability for $c_1$\n",
    "\n",
    "- $P(c_2) = 50/200 = 0.25$ is the prior probability for $c_2$\n",
    "\n",
    "- $P(c_3) = 110/200 = 0.55$ is the prior probability for $c_3$\n",
    "\n",
    "- $\\mu_1 = (2.0, 2.0)$\n",
    "\n",
    "- $\\mu_2 = (2.5, 3.2)$ \n",
    "\n",
    "- $\\mu_3 = (2.7, 2.8)$\n",
    "\n",
    "- $\\Sigma_1 = \\begin{bmatrix} 0.1 & 0.08 \\\\ 0.08 & 0.2 \\end{bmatrix}$ \n",
    "\n",
    "- $\\Sigma_2 = \\begin{bmatrix} 0.3 & 0.02 \\\\ 0.02 & 0.23 \\end{bmatrix}$ \n",
    "\n",
    "- $\\Sigma_3 = \\begin{bmatrix} 0.25 & 0.12 \\\\ 0.12 & 0.19 \\end{bmatrix}$ \n",
    "\n",
    "\n",
    "Suppose the dataset $D$ has a multivariate gaussian distribution. <br/>\n",
    "\n",
    "Use the PDF of this distribution to calculate the posterior probability for each class, $P(c_i | \\mathbf{x})$, where $\\mathbf{x} = (2.3, 2.9)$\n",
    "\n",
    "Implement your solution in Python and use the scipy library for the computing the posterior probability.\n",
    "\n",
    "Use the posterior probabilities to determine $\\hat{y}$, the predicted class for $\\mathbf{x}$\n",
    "\n",
    "<i>Note: For this exercise, refer to 'bayesian-classifier.ipynb'.</i>\n"
   ]
  },
  {
   "cell_type": "code",
   "execution_count": null,
   "metadata": {},
   "outputs": [],
   "source": [
    "# import scipy.stats as stats\n",
    "\n",
    "# Your solution here..."
   ]
  }
 ],
 "metadata": {
  "kernelspec": {
   "display_name": "Python 3",
   "language": "python",
   "name": "python3"
  },
  "language_info": {
   "codemirror_mode": {
    "name": "ipython",
    "version": 3
   },
   "file_extension": ".py",
   "mimetype": "text/x-python",
   "name": "python",
   "nbconvert_exporter": "python",
   "pygments_lexer": "ipython3",
   "version": "3.9.4"
  },
  "orig_nbformat": 4
 },
 "nbformat": 4,
 "nbformat_minor": 2
}
