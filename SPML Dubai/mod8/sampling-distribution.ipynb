{
 "cells": [
  {
   "cell_type": "code",
   "execution_count": 12,
   "metadata": {},
   "outputs": [
    {
     "data": {
      "image/png": "[encoded data removed]",
      "text/plain": [
       "<Figure size 432x288 with 1 Axes>"
      ]
     },
     "metadata": {
      "needs_background": "light"
     },
     "output_type": "display_data"
    }
   ],
   "source": [
    "import numpy as np\n",
    "import matplotlib.pyplot as plt\n",
    "\n",
    "# Population parameters\n",
    "population_mean = 100\n",
    "population_std = 15\n",
    "\n",
    "# Number of samples and sample size\n",
    "num_samples = 1000\n",
    "sample_size = 30\n",
    "\n",
    "# Generate samples from the population\n",
    "samples = np.random.normal(loc=population_mean, scale=population_std, size=(num_samples, sample_size))\n",
    "\n",
    "# Calculate sample means\n",
    "sample_means = np.mean(samples, axis=1)\n",
    "\n",
    "# Calculate the standard error of the mean\n",
    "standard_error = population_std / np.sqrt(sample_size)\n",
    "\n",
    "# Calculate the margin of error for a 95% confidence interval\n",
    "margin_of_error = 1.96 * standard_error\n",
    "\n",
    "# Calculate the lower and upper bounds of the confidence interval\n",
    "confidence_interval_lower = sample_means - margin_of_error\n",
    "confidence_interval_upper = sample_means + margin_of_error\n",
    "\n",
    "# Plot the sampling distribution\n",
    "plt.hist(sample_means, bins=30, edgecolor='black')\n",
    "plt.axvline(x=population_mean, color='red', linestyle='--', label='Population Mean')\n",
    "plt.axvline(x=np.mean(sample_means), color='blue', linestyle='--', label='Sample Mean')\n",
    "plt.axvline(x=confidence_interval_lower[0], color='green', linestyle='--', label='Confidence Interval')\n",
    "plt.axvline(x=confidence_interval_upper[0], color='green', linestyle='--')\n",
    "plt.xlabel('Sample Mean')\n",
    "plt.ylabel('Frequency')\n",
    "plt.title('Sampling Distribution')\n",
    "plt.legend()\n",
    "plt.show()\n"
   ]
  },
  {
   "cell_type": "code",
   "execution_count": 13,
   "metadata": {},
   "outputs": [
    {
     "name": "stdout",
     "output_type": "stream",
     "text": [
      "Posterior Distribution:\n",
      "Mean: 2.038887248458105\n",
      "Variance: 0.010259822194040404\n",
      "\n",
      "Posterior Samples Statistics:\n",
      "Mean: 2.0343031612380886\n",
      "Standard Deviation: 0.10002738512450064\n",
      "\n",
      "95% Credible Interval: 1.8394528950915563 - 2.236495818674459\n"
     ]
    }
   ],
   "source": [
    "import numpy as np\n",
    "import scipy.stats as stats\n",
    "\n",
    "# Generate observed data\n",
    "np.random.seed(0)\n",
    "observed_data = np.random.normal(loc=2, scale=1, size=100)\n",
    "\n",
    "# Prior distribution parameters\n",
    "prior_mean = 0\n",
    "prior_variance = 100\n",
    "\n",
    "# Likelihood function (normal distribution)\n",
    "likelihood = lambda x: stats.norm.pdf(x, loc=np.mean(observed_data), scale=np.std(observed_data, ddof=1))\n",
    "\n",
    "# Posterior distribution parameters (conjugate prior)\n",
    "posterior_mean = (prior_variance * np.mean(observed_data) + np.var(observed_data, ddof=1) * prior_mean) / (prior_variance + np.var(observed_data, ddof=1))\n",
    "posterior_variance = 1 / (1 / prior_variance + len(observed_data) / np.var(observed_data, ddof=1))\n",
    "\n",
    "# Generate samples from the posterior distribution\n",
    "np.random.seed(0)\n",
    "posterior_samples = np.random.normal(loc=posterior_mean, scale=np.sqrt(posterior_variance), size=1000)\n",
    "\n",
    "# Print posterior distribution parameters\n",
    "print(\"Posterior Distribution:\")\n",
    "print(\"Mean:\", posterior_mean)\n",
    "print(\"Variance:\", posterior_variance)\n",
    "print()\n",
    "\n",
    "# Print posterior samples statistics\n",
    "print(\"Posterior Samples Statistics:\")\n",
    "print(\"Mean:\", np.mean(posterior_samples))\n",
    "print(\"Standard Deviation:\", np.std(posterior_samples, ddof=1))\n",
    "print()\n",
    "\n",
    "# Print 95% credible interval\n",
    "lower_bound = np.percentile(posterior_samples, 2.5)\n",
    "upper_bound = np.percentile(posterior_samples, 97.5)\n",
    "print(\"95% Credible Interval:\", lower_bound, \"-\", upper_bound)\n"
   ]
  },
  {
   "attachments": {},
   "cell_type": "markdown",
   "metadata": {},
   "source": [
    "$P(\\theta_0) = $<br/>\n",
    "$P(\\theta_1) = $"
   ]
  },
  {
   "cell_type": "code",
   "execution_count": 56,
   "metadata": {},
   "outputs": [
    {
     "name": "stdout",
     "output_type": "stream",
     "text": [
      "Bayes Factor: 8.3279392037924\n"
     ]
    }
   ],
   "source": [
    "import numpy as np\n",
    "import scipy.stats as stats\n",
    "\n",
    "# Generate observed data\n",
    "np.random.seed(0)\n",
    "observed_data = np.random.normal(loc=2, scale=1, size=100)\n",
    "\n",
    "# Prior distribution parameters for hypothesis 1\n",
    "prior_1_mean = 2\n",
    "prior_1 = stats.norm.pdf(np.mean(observed_data), loc=prior_1_mean, scale=1)\n",
    "\n",
    "# Prior distribution parameters for hypothesis 2\n",
    "prior_2_mean = 0\n",
    "prior_2 = stats.norm.pdf(np.mean(observed_data), loc=prior_2_mean, scale=1)\n",
    "\n",
    "# Likelihood function for hypothesis 1 (normal distribution)\n",
    "likelihood_func = lambda x: stats.norm.pdf(x, loc=np.mean(observed_data), scale=1)\n",
    "likelihood = np.prod(likelihood_func(observed_data))\n",
    "\n",
    "\n",
    "posterior_1 = likelihood * prior_1\n",
    "posterior_2 = likelihood * prior_2\n",
    "\n",
    "# Calculate the Bayes factor incorporating the priors\n",
    "bayes_factor = posterior_1 / posterior_2\n",
    "               \n",
    "\n",
    "print(\"Bayes Factor:\", bayes_factor)\n"
   ]
  },
  {
   "cell_type": "code",
   "execution_count": null,
   "metadata": {},
   "outputs": [],
   "source": []
  }
 ],
 "metadata": {
  "kernelspec": {
   "display_name": "Python 3",
   "language": "python",
   "name": "python3"
  },
  "language_info": {
   "codemirror_mode": {
    "name": "ipython",
    "version": 3
   },
   "file_extension": ".py",
   "mimetype": "text/x-python",
   "name": "python",
   "nbconvert_exporter": "python",
   "pygments_lexer": "ipython3",
   "version": "3.9.4"
  },
  "orig_nbformat": 4
 },
 "nbformat": 4,
 "nbformat_minor": 2
}
