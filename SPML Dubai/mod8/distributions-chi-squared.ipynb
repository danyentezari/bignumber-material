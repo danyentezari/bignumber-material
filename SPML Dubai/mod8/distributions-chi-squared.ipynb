{
 "cells": [
  {
   "attachments": {},
   "cell_type": "markdown",
   "metadata": {},
   "source": [
    "# Chi-Squared Distribution"
   ]
  },
  {
   "attachments": {},
   "cell_type": "markdown",
   "metadata": {},
   "source": [
    "The $\\chi^2$ distribution, sometimes also called the variance distribution, is mathematically expressed as follows\n",
    "\n",
    "$$ \\Chi_{n-1} \\sim \\dfrac{\\displaystyle \\sum_{i=1}^{N} (X_i - \\bar{X})^2 }{\\sigma^2} $$\n",
    "\n",
    "where\n",
    "- $X_i$ is a sample from a normally distributed $X$\n",
    "\n",
    "<br/><br/>\n",
    "\n",
    "If we plot the variance of a sample of a normally distributed data, it will assume a chi-square distribution."
   ]
  },
  {
   "attachments": {},
   "cell_type": "markdown",
   "metadata": {},
   "source": [
    "<br/><br/>"
   ]
  },
  {
   "attachments": {},
   "cell_type": "markdown",
   "metadata": {},
   "source": [
    "### PDF and CDF of $\\chi^2$"
   ]
  },
  {
   "attachments": {},
   "cell_type": "markdown",
   "metadata": {},
   "source": [
    "The PDF of the Chi-Squared distribution is\n",
    "\n",
    "$$f(x; k) = \\frac{1}{2^{k/2} \\Gamma(k/2)} x^{(k/2)-1} e^{-x/2}$$"
   ]
  },
  {
   "attachments": {},
   "cell_type": "markdown",
   "metadata": {},
   "source": [
    "The CDF of the Chi-Square distribution is given by\n",
    "\n",
    "$$ CDF_{\\text{chi-squared}} = \\int_{-\\infty}^{x} f(x; k) \\:dx = \\frac{1}{\\Gamma(\\frac{k}{2})} \\gamma\\left(\\frac{k}{2}, \\frac{x}{2}\\right) $$\n",
    "\n",
    "where\n",
    "- $k$ is degrees of freedom\n",
    "- $\\Gamma(z) = \\displaystyle \\int_0^\\infty t^{z-1} e^{-t} \\, dt$ is the general case of factorial\n",
    "- $\\gamma(s, x) = \\displaystyle \\int_0^x t^{s-1} e^{-t} \\, dt$ is the lower incomplete gamma function"
   ]
  },
  {
   "attachments": {},
   "cell_type": "markdown",
   "metadata": {},
   "source": [
    "<br/><br/>"
   ]
  },
  {
   "attachments": {},
   "cell_type": "markdown",
   "metadata": {},
   "source": [
    "### Example (1) Goodness-of-Fit\n",
    "\n",
    "This example demonstrates how to use the chi-squared goodness-of-fit test to compare the frequencies of two samples. <br/><br/>\n",
    "\n",
    "Suppose a retail store has 5 models of a product, and their sale frequency is indicated in `april_sales` and `may_sales`. <br/><br/>\n",
    "\n",
    "They wish to compare the variance of frequencies in the sales reported in these 2 months. <br/><br/>\n",
    " We assume the change is not statistically significant if the p-value > alpha = 0.05.\n",
    "\n"
   ]
  },
  {
   "cell_type": "code",
   "execution_count": 32,
   "metadata": {},
   "outputs": [
    {
     "data": {
      "image/png": "[encoded data removed]",
      "text/plain": [
       "<Figure size 432x288 with 1 Axes>"
      ]
     },
     "metadata": {
      "needs_background": "light"
     },
     "output_type": "display_data"
    },
    {
     "name": "stdout",
     "output_type": "stream",
     "text": [
      "Chi-squared statistic: 4.013843999138117\n",
      "Degrees of freedom: 4\n",
      "p-value: 0.40413551038510453\n"
     ]
    }
   ],
   "source": [
    "import numpy as np\n",
    "import matplotlib.pyplot as plt\n",
    "from scipy.stats import chi2\n",
    "\n",
    "# Observed frequencies for each model for the month of April\n",
    "april_sales = np.array([29, 40, 30, 35, 20])\n",
    "\n",
    "# Observed frequencies for each model for the month of May\n",
    "may_sales = np.array([28, 32, 26, 30, 17])\n",
    "\n",
    "# Compute the chi-squared test statistic\n",
    "chi2_stat = np.sum((april_sales - may_sales)**2 / may_sales)\n",
    "\n",
    "# Determine the degrees of freedom (number of categories - 1)\n",
    "df = len(april_sales) - 1\n",
    "\n",
    "# Compute the p-value\n",
    "p_value = 1.0 - chi2.cdf(chi2_stat, df)\n",
    "\n",
    "# Plot the CDF of the chi-squared distribution\n",
    "x = np.linspace(0, chi2.ppf(0.99, df), 100)  # Adjust the range as needed\n",
    "cdf = chi2.cdf(x, df)\n",
    "plt.plot(x, cdf, label=\"CDF\")\n",
    "\n",
    "# Plot a vertical line at the test statistic\n",
    "plt.axvline(x=chi2_stat, color='red', linestyle='--', label=\"Test Statistic\")\n",
    "\n",
    "# Add labels and legend\n",
    "plt.xlabel('x')\n",
    "plt.ylabel('Cumulative Probability')\n",
    "plt.legend()\n",
    "\n",
    "# Display the plot\n",
    "plt.show()\n",
    "\n",
    "# Print the chi-squared statistic and p-value\n",
    "print(\"Chi-squared statistic:\", chi2_stat)\n",
    "print(\"Degrees of freedom:\", df)\n",
    "print(\"p-value:\", p_value)\n"
   ]
  },
  {
   "cell_type": "code",
   "execution_count": null,
   "metadata": {},
   "outputs": [],
   "source": []
  }
 ],
 "metadata": {
  "kernelspec": {
   "display_name": "Python 3",
   "language": "python",
   "name": "python3"
  },
  "language_info": {
   "codemirror_mode": {
    "name": "ipython",
    "version": 3
   },
   "file_extension": ".py",
   "mimetype": "text/x-python",
   "name": "python",
   "nbconvert_exporter": "python",
   "pygments_lexer": "ipython3",
   "version": "3.9.4"
  },
  "orig_nbformat": 4
 },
 "nbformat": 4,
 "nbformat_minor": 2
}
