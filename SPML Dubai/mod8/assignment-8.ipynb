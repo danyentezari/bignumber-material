{
 "cells": [
  {
   "attachments": {},
   "cell_type": "markdown",
   "metadata": {},
   "source": [
    "# Assignment 8"
   ]
  },
  {
   "attachments": {},
   "cell_type": "markdown",
   "metadata": {},
   "source": [
    "**Question (1)**\n",
    "\n",
    "Suppose we are given two random variables $X_1, X_2$ which may or not be normally distributed. We want to determine which of these is actually normally distributed. We first plot the distributions to make an initial and visual judgement. However, to make a more precise decision, we turn to hypothesis testing.\n",
    "\n",
    "1. Compute the p-value of both $X_1$ and $X_2$ under the Shapiro-Wilk Test.\n",
    "2. Indicate which of these random variables are normally distributed.\n",
    "3. If only one of the distributions is normally distributed, indicate the statistical significance."
   ]
  },
  {
   "cell_type": "code",
   "execution_count": null,
   "metadata": {},
   "outputs": [],
   "source": [
    "# Download the data\n",
    "!curl -o data1.csv -H \"Accept: application/csv\" -X GET  https://raw.githubusercontent.com/danyentezari/bignumber-material/master/SPML%20Dubai/mod8/data1.csv\n",
    "!curl -o data2.csv -H \"Accept: application/csv\" -X GET  https://raw.githubusercontent.com/danyentezari/bignumber-material/master/SPML%20Dubai/mod8/data2.csv"
   ]
  },
  {
   "cell_type": "code",
   "execution_count": 59,
   "metadata": {},
   "outputs": [
    {
     "data": {
      "image/png": "[encoded data removed]",
      "text/plain": [
       "<Figure size 432x288 with 1 Axes>"
      ]
     },
     "metadata": {
      "needs_background": "light"
     },
     "output_type": "display_data"
    },
    {
     "data": {
      "image/png": "[encoded data removed]",
      "text/plain": [
       "<Figure size 432x288 with 1 Axes>"
      ]
     },
     "metadata": {
      "needs_background": "light"
     },
     "output_type": "display_data"
    }
   ],
   "source": [
    "import numpy as np\n",
    "import pandas as pd\n",
    "import scipy.stats as stats\n",
    "import matplotlib.pyplot as plt\n",
    "\n",
    "# Load the data\n",
    "X_1 = np.loadtxt('./data1.csv', dtype='float')\n",
    "X_2 = np.loadtxt('./data2.csv', dtype='float')\n",
    "\n",
    "\n",
    "\n",
    "# Visualize the distributions\n",
    "plt.hist(X_1, alpha=0.5, label='X_1')\n",
    "plt.xlabel('Value')\n",
    "plt.ylabel('Frequency')\n",
    "plt.title('Distribution of X_1')\n",
    "plt.legend()\n",
    "plt.show()\n",
    "\n",
    "# Plot the distribution of X_2\n",
    "plt.hist(X_2, alpha=0.5, label='X_2')\n",
    "plt.xlabel('Value')\n",
    "plt.ylabel('Frequency')\n",
    "plt.title('Distribution of X_2')\n",
    "plt.legend()\n",
    "plt.show()"
   ]
  },
  {
   "cell_type": "code",
   "execution_count": null,
   "metadata": {},
   "outputs": [],
   "source": [
    "# You can use Shapiro-Wilk Test to test the normality\n",
    "# stats.shapiro(data).pvalue\n",
    "\n",
    "\n",
    "# Your solution here..."
   ]
  },
  {
   "attachments": {},
   "cell_type": "markdown",
   "metadata": {},
   "source": [
    "**Question (2)**\n",
    "\n",
    "In this part, we wish to determine which of the distributions $X_2$ and $X_3$ best fit a reference distribution $X_1$. Here, we use the Chi-Squared Goodness-of-Fit to quantitatively determine the answer to this questions.\n",
    "\n",
    "1. Calculate the $\\chi^2$ statistic\n",
    "2. Calculate the degrees-of-freedom\n",
    "3. Find the p-value for hypothesis: $X_2$ is best fit\n",
    "4. Find the p-value for hypothesis: $X_3$ is best fit\n",
    "5. Indicate which distribution best"
   ]
  },
  {
   "cell_type": "code",
   "execution_count": 125,
   "metadata": {},
   "outputs": [],
   "source": [
    "# The reference distribution\n",
    "X_1 = np.array([29, 40, 30, 35, 20])\n",
    "\n",
    "\n",
    "X_2 = np.array([28, 32, 26, 30, 17])\n",
    "X_3 = np.array([29, 39, 20, 25, 17])"
   ]
  }
 ],
 "metadata": {
  "kernelspec": {
   "display_name": "Python 3",
   "language": "python",
   "name": "python3"
  },
  "language_info": {
   "codemirror_mode": {
    "name": "ipython",
    "version": 3
   },
   "file_extension": ".py",
   "mimetype": "text/x-python",
   "name": "python",
   "nbconvert_exporter": "python",
   "pygments_lexer": "ipython3",
   "version": "3.9.4"
  },
  "orig_nbformat": 4
 },
 "nbformat": 4,
 "nbformat_minor": 2
}
