{
 "cells": [
  {
   "attachments": {},
   "cell_type": "markdown",
   "metadata": {},
   "source": [
    "# Assignment 3"
   ]
  },
  {
   "attachments": {},
   "cell_type": "markdown",
   "metadata": {},
   "source": [
    "**Instructions**\n",
    "1. Find the data types of the dataset (categorical vs numerical)\n",
    "2. For the numerical and categorical data, create two new variables called `categorical_df` and `numerical_df`\n",
    "3. For the numerical data, find the descriptive statistics (central tendency and dispersion)\n",
    "4. For the categorical data, find the number of male and female users\n",
    "5. For step (4), visualize the the frequencies\n",
    "6. Plot the frequencies for the different age brackets\n",
    "7. Display the correlation martrix for all numerical variables\n",
    "8. Assuming the dependent variable is `Total_Conversion`, produce three scatter plots comparing the top three correlated variables.\n",
    "10. Using the appropriate library, produce a multiple linear regression model $Y = \\beta_0 + \\beta_1 X_1 + \\beta_2 X_2 + \\beta_3 X_3$ where $x_1,x_2,x_3$ are the top 3 correlated variables \n",
    "11. Find the model metrics RMSE and $R^2$\n",
    "12. Plot the residual plot for the error term\n",
    "13. Visually analyze the OLS assumptions"
   ]
  },
  {
   "cell_type": "code",
   "execution_count": null,
   "metadata": {},
   "outputs": [],
   "source": [
    "# Install libraties (only if not installed before)\n",
    "# !python3 -m pip install numpy pandas matplotlib scipy sklearn"
   ]
  },
  {
   "cell_type": "code",
   "execution_count": null,
   "metadata": {},
   "outputs": [],
   "source": [
    "# Download the CSV data\n",
    "!curl -o supermarket-sales.csv -H \"Accept: application/csv\" -X GET https://raw.githubusercontent.com/danyentezari/bignumber-material/master/SPML%20Dubai/mod3/conversion-data.csv"
   ]
  }
 ],
 "metadata": {
  "language_info": {
   "name": "python"
  },
  "orig_nbformat": 4
 },
 "nbformat": 4,
 "nbformat_minor": 2
}
