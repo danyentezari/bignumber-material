{
 "cells": [
  {
   "attachments": {},
   "cell_type": "markdown",
   "metadata": {},
   "source": [
    "## Hypothesis Testing"
   ]
  },
  {
   "attachments": {},
   "cell_type": "markdown",
   "metadata": {},
   "source": [
    "- One-sample hypothesis testing: This type of hypothesis testing is used to compare a sample mean, proportion or variance to a known or hypothesized population value.\n",
    "\n",
    "- Two-sample hypothesis testing: This type of hypothesis testing is used to compare the means, proportions or variances of two independent samples.\n",
    "\n",
    "- Paired or dependent samples hypothesis testing: This type of hypothesis testing is used to compare the means, proportions or variances of two dependent or related samples.\n",
    "\n",
    "- Chi-square test: This type of hypothesis testing is used to determine whether there is a significant association between two categorical variables.\n",
    "\n",
    "- ANOVA (Analysis of Variance): This type of hypothesis testing is used to compare the means of two or more independent groups.\n",
    "\n",
    "- MANOVA (Multivariate Analysis of Variance): This type of hypothesis testing is used to compare the means of two or more dependent variables across two or more independent groups.\n",
    "\n",
    "- T-test: This type of hypothesis testing is used to compare the means of two independent samples.\n",
    "\n",
    "- Z-test: This type of hypothesis testing is used to compare a sample mean to a known or hypothesized population mean when the population standard deviation is known.\n",
    "\n",
    "- F-test: This type of hypothesis testing is used to compare the variances of two or more independent groups."
   ]
  },
  {
   "attachments": {},
   "cell_type": "markdown",
   "metadata": {},
   "source": [
    "### Z-Test"
   ]
  },
  {
   "cell_type": "code",
   "execution_count": 35,
   "metadata": {},
   "outputs": [
    {
     "name": "stdout",
     "output_type": "stream",
     "text": [
      "Sample Mean:  3.963\n",
      "Sample Median:  3.945\n",
      "Sample Standard Deviation:  0.272\n",
      "Sample Standard Error:  0.027\n",
      "95% Confidence Interval for Population Mean: (3.909, 4.017)\n"
     ]
    }
   ],
   "source": [
    "import pandas as pd\n",
    "import numpy as np\n",
    "import statsmodels.api as sm\n",
    "from math import sqrt\n",
    "import matplotlib.pyplot as plt\n",
    "# Set the seed for reproducibility\n",
    "np.random.seed(123)\n",
    "\n",
    "\n",
    "\n",
    "# Generate a population of 100000 data points with mean 4 and standard deviation 0.3\n",
    "population = np.random.normal(loc=mu, scale=sigma, size=100000)\n",
    "\n",
    "# population parameters\n",
    "mu = 4\n",
    "sigma = 0.3\n",
    "N = len(population)\n",
    "\n",
    "# Take a random sample of 100 data points from the population\n",
    "sample = np.random.choice(population, size=100)\n",
    "n = len(sample)\n",
    "\n",
    "# Calculate the mean, median, standard deviation, and standard error of the sample\n",
    "s_mean = np.mean(sample)\n",
    "s_median = np.median(sample)\n",
    "s_std = np.std(sample, ddof=1)\n",
    "s_se = std / np.sqrt(len(sample))\n",
    "\n",
    "# Print the results\n",
    "print(\"Sample Mean: \", round(s_mean, 3))\n",
    "print(\"Sample Median: \", round(s_median, 3))\n",
    "print(\"Sample Standard Deviation: \", round(s_std, 3))\n",
    "print(\"Sample Standard Error: \", round(s_se, 3))\n",
    "\n",
    "# Use statsmodels to calculate a 95% confidence interval for the population mean\n",
    "ci = sm.stats.DescrStatsW(sample).tconfint_mean(alpha=0.05)\n",
    "print(\"95% Confidence Interval for Population Mean: ({}, {})\".format(round(ci[0], 3), round(ci[1], 3)))\n"
   ]
  },
  {
   "cell_type": "code",
   "execution_count": 36,
   "metadata": {},
   "outputs": [
    {
     "name": "stdout",
     "output_type": "stream",
     "text": [
      "-1.2314757716356115\n"
     ]
    }
   ],
   "source": [
    "z = (s_mean - mu) / (sigma / sqrt(n))\n",
    "print(z)"
   ]
  },
  {
   "cell_type": "code",
   "execution_count": 37,
   "metadata": {},
   "outputs": [
    {
     "data": {
      "image/png": "[encoded data removed]",
      "text/plain": [
       "<Figure size 432x288 with 1 Axes>"
      ]
     },
     "metadata": {
      "needs_background": "light"
     },
     "output_type": "display_data"
    }
   ],
   "source": [
    "# Plot the distributions of the sample and population\n",
    "fig, ax = plt.subplots()\n",
    "ax.hist(population, bins=50, density=True, alpha=0.5, label='Population')\n",
    "ax.hist(sample, bins=10, density=True, alpha=0.5, label='Sample')\n",
    "ax.set_xlabel('Value')\n",
    "ax.set_ylabel('Density')\n",
    "ax.set_title('Distributions of Population and Sample')\n",
    "ax.legend()\n",
    "plt.show()"
   ]
  },
  {
   "attachments": {},
   "cell_type": "markdown",
   "metadata": {},
   "source": [
    "$CDF(x; \\mu, \\sigma) = \\dfrac{1}{\\sigma\\sqrt{2\\pi}} \\displaystyle\\int_{-\\infty}^{x} e^{-\\dfrac{(t-\\mu)^2}{2\\sigma^2}}\\:dt$"
   ]
  },
  {
   "cell_type": "code",
   "execution_count": 38,
   "metadata": {},
   "outputs": [
    {
     "name": "stdout",
     "output_type": "stream",
     "text": [
      "p-value: 0.10934855242569191\n",
      "Don't reject null hypothesis\n"
     ]
    }
   ],
   "source": [
    "from scipy.stats import norm\n",
    "\n",
    "\n",
    "alpha = 0.05\n",
    "# Calculate the p-value for a right-tailed Z-test\n",
    "p_value = norm.cdf(-1.23)\n",
    "\n",
    "# Print the p-value\n",
    "print('p-value:', p_value)\n",
    "\n",
    "if(p_value < alpha):\n",
    "    print(\"Reject null hypothesis\")\n",
    "else:\n",
    "    print(\"Don't reject null hypothesis\")\n"
   ]
  },
  {
   "cell_type": "code",
   "execution_count": 72,
   "metadata": {},
   "outputs": [
    {
     "data": {
      "image/png": "[encoded data removed]",
      "text/plain": [
       "<Figure size 432x288 with 1 Axes>"
      ]
     },
     "metadata": {
      "needs_background": "light"
     },
     "output_type": "display_data"
    }
   ],
   "source": [
    "s_mean2 = 4.2\n",
    "sample2 = np.random.normal(loc=s_mean2, scale=sigma, size=100)\n",
    "\n",
    "# Plot the distributions of the sample and population\n",
    "fig, ax = plt.subplots()\n",
    "ax.hist(population, bins=50, density=True, alpha=0.5, label='Population')\n",
    "ax.hist(sample2, bins=10, density=True, alpha=0.5, label='Sample')\n",
    "ax.set_xlabel('Value')\n",
    "ax.set_ylabel('Density')\n",
    "ax.set_title('Distributions of Population and Sample')\n",
    "ax.legend()\n",
    "plt.show()"
   ]
  },
  {
   "cell_type": "code",
   "execution_count": 73,
   "metadata": {},
   "outputs": [
    {
     "name": "stdout",
     "output_type": "stream",
     "text": [
      "6.666666666666673\n"
     ]
    }
   ],
   "source": [
    "z2 = (s_mean2 - mu) / (sigma / sqrt(n))\n",
    "print(z2)"
   ]
  },
  {
   "cell_type": "code",
   "execution_count": 75,
   "metadata": {},
   "outputs": [
    {
     "name": "stdout",
     "output_type": "stream",
     "text": [
      "p-value: 1.308397834520747e-11\n",
      "Reject null hypothesis\n"
     ]
    }
   ],
   "source": [
    "alpha = 0.05\n",
    "# Calculate the p-value for a right-tailed Z-test\n",
    "p_value = norm.sf(z2)\n",
    "p_value = 1-norm.cdf(z2)\n",
    "\n",
    "# Print the p-value\n",
    "print('p-value:', p_value)\n",
    "\n",
    "if(p_value < alpha):\n",
    "    print(\"Reject null hypothesis\")\n",
    "else:\n",
    "    print(\"Don't reject null hypothesis\")"
   ]
  },
  {
   "cell_type": "code",
   "execution_count": null,
   "metadata": {},
   "outputs": [],
   "source": []
  },
  {
   "attachments": {},
   "cell_type": "markdown",
   "metadata": {},
   "source": [
    "### $\\chi^2$ Test"
   ]
  },
  {
   "attachments": {},
   "cell_type": "markdown",
   "metadata": {},
   "source": [
    "Where\n",
    "- Degrees of Freedom $= df = (r - 1) * (c - 1)$"
   ]
  },
  {
   "cell_type": "code",
   "execution_count": 76,
   "metadata": {},
   "outputs": [
    {
     "name": "stdout",
     "output_type": "stream",
     "text": [
      "Chi-squared statistic: 0.27157465150403504\n",
      "p-value: 0.873028283380073\n",
      "Degrees of freedom: 2\n",
      "Expected values:\n",
      " [[10.43478261 18.91304348 30.65217391]\n",
      " [ 5.56521739 10.08695652 16.34782609]]\n"
     ]
    }
   ],
   "source": [
    "import numpy as np\n",
    "from scipy.stats import chi2_contingency\n",
    "\n",
    "# Create a contingency table\n",
    "observed = np.array([[10, 20, 30],\n",
    "                     [6,  9,  17]])\n",
    "\n",
    "# Perform the chi-squared test\n",
    "chi2, p, dof, expected = chi2_contingency(observed)\n",
    "\n",
    "# Print the results\n",
    "print(\"Chi-squared statistic:\", chi2)\n",
    "print(\"p-value:\", p)\n",
    "print(\"Degrees of freedom:\", dof)\n",
    "print(\"Expected values:\\n\", expected)\n"
   ]
  }
 ],
 "metadata": {
  "kernelspec": {
   "display_name": "Python 3",
   "language": "python",
   "name": "python3"
  },
  "language_info": {
   "codemirror_mode": {
    "name": "ipython",
    "version": 3
   },
   "file_extension": ".py",
   "mimetype": "text/x-python",
   "name": "python",
   "nbconvert_exporter": "python",
   "pygments_lexer": "ipython3",
   "version": "3.9.4"
  },
  "orig_nbformat": 4
 },
 "nbformat": 4,
 "nbformat_minor": 2
}
